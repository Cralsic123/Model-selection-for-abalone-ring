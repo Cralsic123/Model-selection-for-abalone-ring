{
  "nbformat": 4,
  "nbformat_minor": 0,
  "metadata": {
    "colab": {
      "provenance": [],
      "gpuType": "T4",
      "include_colab_link": true
    },
    "kernelspec": {
      "name": "python3",
      "display_name": "Python 3"
    },
    "language_info": {
      "name": "python"
    },
    "accelerator": "GPU",
    "widgets": {
      "application/vnd.jupyter.widget-state+json": {
        "d7e2733a4d6a431b9408d18ac96cd75e": {
          "model_module": "@jupyter-widgets/controls",
          "model_name": "HBoxModel",
          "model_module_version": "1.5.0",
          "state": {
            "_dom_classes": [],
            "_model_module": "@jupyter-widgets/controls",
            "_model_module_version": "1.5.0",
            "_model_name": "HBoxModel",
            "_view_count": null,
            "_view_module": "@jupyter-widgets/controls",
            "_view_module_version": "1.5.0",
            "_view_name": "HBoxView",
            "box_style": "",
            "children": [
              "IPY_MODEL_037723811f75404ab4e3b98d1789c2a8",
              "IPY_MODEL_4e830dbf1eea4594bec6940c9d6d96be",
              "IPY_MODEL_9aec606c5abc41a0ba8d81fe55ee3f43"
            ],
            "layout": "IPY_MODEL_66bba03da182456f8e6cde9ee8f9e7bb"
          }
        },
        "037723811f75404ab4e3b98d1789c2a8": {
          "model_module": "@jupyter-widgets/controls",
          "model_name": "HTMLModel",
          "model_module_version": "1.5.0",
          "state": {
            "_dom_classes": [],
            "_model_module": "@jupyter-widgets/controls",
            "_model_module_version": "1.5.0",
            "_model_name": "HTMLModel",
            "_view_count": null,
            "_view_module": "@jupyter-widgets/controls",
            "_view_module_version": "1.5.0",
            "_view_name": "HTMLView",
            "description": "",
            "description_tooltip": null,
            "layout": "IPY_MODEL_7ebe275cc8cc4e57b833128765f32530",
            "placeholder": "​",
            "style": "IPY_MODEL_7c4f33b94df946359ed75fa49a18f5c8",
            "value": "Best trial: 960. Best value: 0.148393: 100%"
          }
        },
        "4e830dbf1eea4594bec6940c9d6d96be": {
          "model_module": "@jupyter-widgets/controls",
          "model_name": "FloatProgressModel",
          "model_module_version": "1.5.0",
          "state": {
            "_dom_classes": [],
            "_model_module": "@jupyter-widgets/controls",
            "_model_module_version": "1.5.0",
            "_model_name": "FloatProgressModel",
            "_view_count": null,
            "_view_module": "@jupyter-widgets/controls",
            "_view_module_version": "1.5.0",
            "_view_name": "ProgressView",
            "bar_style": "success",
            "description": "",
            "description_tooltip": null,
            "layout": "IPY_MODEL_9011179db7da4262b3b376da700b2597",
            "max": 5000,
            "min": 0,
            "orientation": "horizontal",
            "style": "IPY_MODEL_f23e42e86ac84bc1aa70b08351a71f64",
            "value": 5000
          }
        },
        "9aec606c5abc41a0ba8d81fe55ee3f43": {
          "model_module": "@jupyter-widgets/controls",
          "model_name": "HTMLModel",
          "model_module_version": "1.5.0",
          "state": {
            "_dom_classes": [],
            "_model_module": "@jupyter-widgets/controls",
            "_model_module_version": "1.5.0",
            "_model_name": "HTMLModel",
            "_view_count": null,
            "_view_module": "@jupyter-widgets/controls",
            "_view_module_version": "1.5.0",
            "_view_name": "HTMLView",
            "description": "",
            "description_tooltip": null,
            "layout": "IPY_MODEL_802f0766377e4f7aac0aef99b427bf87",
            "placeholder": "​",
            "style": "IPY_MODEL_365bbe96f6494e689f00002dbc9c1d54",
            "value": " 5000/5000 [01:20&lt;00:00, 62.93it/s]"
          }
        },
        "66bba03da182456f8e6cde9ee8f9e7bb": {
          "model_module": "@jupyter-widgets/base",
          "model_name": "LayoutModel",
          "model_module_version": "1.2.0",
          "state": {
            "_model_module": "@jupyter-widgets/base",
            "_model_module_version": "1.2.0",
            "_model_name": "LayoutModel",
            "_view_count": null,
            "_view_module": "@jupyter-widgets/base",
            "_view_module_version": "1.2.0",
            "_view_name": "LayoutView",
            "align_content": null,
            "align_items": null,
            "align_self": null,
            "border": null,
            "bottom": null,
            "display": null,
            "flex": null,
            "flex_flow": null,
            "grid_area": null,
            "grid_auto_columns": null,
            "grid_auto_flow": null,
            "grid_auto_rows": null,
            "grid_column": null,
            "grid_gap": null,
            "grid_row": null,
            "grid_template_areas": null,
            "grid_template_columns": null,
            "grid_template_rows": null,
            "height": null,
            "justify_content": null,
            "justify_items": null,
            "left": null,
            "margin": null,
            "max_height": null,
            "max_width": null,
            "min_height": null,
            "min_width": null,
            "object_fit": null,
            "object_position": null,
            "order": null,
            "overflow": null,
            "overflow_x": null,
            "overflow_y": null,
            "padding": null,
            "right": null,
            "top": null,
            "visibility": null,
            "width": null
          }
        },
        "7ebe275cc8cc4e57b833128765f32530": {
          "model_module": "@jupyter-widgets/base",
          "model_name": "LayoutModel",
          "model_module_version": "1.2.0",
          "state": {
            "_model_module": "@jupyter-widgets/base",
            "_model_module_version": "1.2.0",
            "_model_name": "LayoutModel",
            "_view_count": null,
            "_view_module": "@jupyter-widgets/base",
            "_view_module_version": "1.2.0",
            "_view_name": "LayoutView",
            "align_content": null,
            "align_items": null,
            "align_self": null,
            "border": null,
            "bottom": null,
            "display": null,
            "flex": null,
            "flex_flow": null,
            "grid_area": null,
            "grid_auto_columns": null,
            "grid_auto_flow": null,
            "grid_auto_rows": null,
            "grid_column": null,
            "grid_gap": null,
            "grid_row": null,
            "grid_template_areas": null,
            "grid_template_columns": null,
            "grid_template_rows": null,
            "height": null,
            "justify_content": null,
            "justify_items": null,
            "left": null,
            "margin": null,
            "max_height": null,
            "max_width": null,
            "min_height": null,
            "min_width": null,
            "object_fit": null,
            "object_position": null,
            "order": null,
            "overflow": null,
            "overflow_x": null,
            "overflow_y": null,
            "padding": null,
            "right": null,
            "top": null,
            "visibility": null,
            "width": null
          }
        },
        "7c4f33b94df946359ed75fa49a18f5c8": {
          "model_module": "@jupyter-widgets/controls",
          "model_name": "DescriptionStyleModel",
          "model_module_version": "1.5.0",
          "state": {
            "_model_module": "@jupyter-widgets/controls",
            "_model_module_version": "1.5.0",
            "_model_name": "DescriptionStyleModel",
            "_view_count": null,
            "_view_module": "@jupyter-widgets/base",
            "_view_module_version": "1.2.0",
            "_view_name": "StyleView",
            "description_width": ""
          }
        },
        "9011179db7da4262b3b376da700b2597": {
          "model_module": "@jupyter-widgets/base",
          "model_name": "LayoutModel",
          "model_module_version": "1.2.0",
          "state": {
            "_model_module": "@jupyter-widgets/base",
            "_model_module_version": "1.2.0",
            "_model_name": "LayoutModel",
            "_view_count": null,
            "_view_module": "@jupyter-widgets/base",
            "_view_module_version": "1.2.0",
            "_view_name": "LayoutView",
            "align_content": null,
            "align_items": null,
            "align_self": null,
            "border": null,
            "bottom": null,
            "display": null,
            "flex": null,
            "flex_flow": null,
            "grid_area": null,
            "grid_auto_columns": null,
            "grid_auto_flow": null,
            "grid_auto_rows": null,
            "grid_column": null,
            "grid_gap": null,
            "grid_row": null,
            "grid_template_areas": null,
            "grid_template_columns": null,
            "grid_template_rows": null,
            "height": null,
            "justify_content": null,
            "justify_items": null,
            "left": null,
            "margin": null,
            "max_height": null,
            "max_width": null,
            "min_height": null,
            "min_width": null,
            "object_fit": null,
            "object_position": null,
            "order": null,
            "overflow": null,
            "overflow_x": null,
            "overflow_y": null,
            "padding": null,
            "right": null,
            "top": null,
            "visibility": null,
            "width": null
          }
        },
        "f23e42e86ac84bc1aa70b08351a71f64": {
          "model_module": "@jupyter-widgets/controls",
          "model_name": "ProgressStyleModel",
          "model_module_version": "1.5.0",
          "state": {
            "_model_module": "@jupyter-widgets/controls",
            "_model_module_version": "1.5.0",
            "_model_name": "ProgressStyleModel",
            "_view_count": null,
            "_view_module": "@jupyter-widgets/base",
            "_view_module_version": "1.2.0",
            "_view_name": "StyleView",
            "bar_color": null,
            "description_width": ""
          }
        },
        "802f0766377e4f7aac0aef99b427bf87": {
          "model_module": "@jupyter-widgets/base",
          "model_name": "LayoutModel",
          "model_module_version": "1.2.0",
          "state": {
            "_model_module": "@jupyter-widgets/base",
            "_model_module_version": "1.2.0",
            "_model_name": "LayoutModel",
            "_view_count": null,
            "_view_module": "@jupyter-widgets/base",
            "_view_module_version": "1.2.0",
            "_view_name": "LayoutView",
            "align_content": null,
            "align_items": null,
            "align_self": null,
            "border": null,
            "bottom": null,
            "display": null,
            "flex": null,
            "flex_flow": null,
            "grid_area": null,
            "grid_auto_columns": null,
            "grid_auto_flow": null,
            "grid_auto_rows": null,
            "grid_column": null,
            "grid_gap": null,
            "grid_row": null,
            "grid_template_areas": null,
            "grid_template_columns": null,
            "grid_template_rows": null,
            "height": null,
            "justify_content": null,
            "justify_items": null,
            "left": null,
            "margin": null,
            "max_height": null,
            "max_width": null,
            "min_height": null,
            "min_width": null,
            "object_fit": null,
            "object_position": null,
            "order": null,
            "overflow": null,
            "overflow_x": null,
            "overflow_y": null,
            "padding": null,
            "right": null,
            "top": null,
            "visibility": null,
            "width": null
          }
        },
        "365bbe96f6494e689f00002dbc9c1d54": {
          "model_module": "@jupyter-widgets/controls",
          "model_name": "DescriptionStyleModel",
          "model_module_version": "1.5.0",
          "state": {
            "_model_module": "@jupyter-widgets/controls",
            "_model_module_version": "1.5.0",
            "_model_name": "DescriptionStyleModel",
            "_view_count": null,
            "_view_module": "@jupyter-widgets/base",
            "_view_module_version": "1.2.0",
            "_view_name": "StyleView",
            "description_width": ""
          }
        },
        "504b501566ab40b391a1e23a275869aa": {
          "model_module": "@jupyter-widgets/controls",
          "model_name": "HBoxModel",
          "model_module_version": "1.5.0",
          "state": {
            "_dom_classes": [],
            "_model_module": "@jupyter-widgets/controls",
            "_model_module_version": "1.5.0",
            "_model_name": "HBoxModel",
            "_view_count": null,
            "_view_module": "@jupyter-widgets/controls",
            "_view_module_version": "1.5.0",
            "_view_name": "HBoxView",
            "box_style": "",
            "children": [
              "IPY_MODEL_2ed5b8115bd54fecb169da30339a1a99",
              "IPY_MODEL_b8be63e0eae3402b80dcb5bef7c77723",
              "IPY_MODEL_9f8280ce8e8246fe8a73521e2e717847"
            ],
            "layout": "IPY_MODEL_a0cc580a66ae4aca8f8141c3f5297283"
          }
        },
        "2ed5b8115bd54fecb169da30339a1a99": {
          "model_module": "@jupyter-widgets/controls",
          "model_name": "HTMLModel",
          "model_module_version": "1.5.0",
          "state": {
            "_dom_classes": [],
            "_model_module": "@jupyter-widgets/controls",
            "_model_module_version": "1.5.0",
            "_model_name": "HTMLModel",
            "_view_count": null,
            "_view_module": "@jupyter-widgets/controls",
            "_view_module_version": "1.5.0",
            "_view_name": "HTMLView",
            "description": "",
            "description_tooltip": null,
            "layout": "IPY_MODEL_07ca789383434ed08bc8d1ec23ab6261",
            "placeholder": "​",
            "style": "IPY_MODEL_2d93b821761543b780f117920f6f8964",
            "value": "Best trial: 1787. Best value: 0.149047: 100%"
          }
        },
        "b8be63e0eae3402b80dcb5bef7c77723": {
          "model_module": "@jupyter-widgets/controls",
          "model_name": "FloatProgressModel",
          "model_module_version": "1.5.0",
          "state": {
            "_dom_classes": [],
            "_model_module": "@jupyter-widgets/controls",
            "_model_module_version": "1.5.0",
            "_model_name": "FloatProgressModel",
            "_view_count": null,
            "_view_module": "@jupyter-widgets/controls",
            "_view_module_version": "1.5.0",
            "_view_name": "ProgressView",
            "bar_style": "success",
            "description": "",
            "description_tooltip": null,
            "layout": "IPY_MODEL_00ea650e716f4a49a7334870ac1d8469",
            "max": 5000,
            "min": 0,
            "orientation": "horizontal",
            "style": "IPY_MODEL_ac2218be3796408e981ad5622ab9cd4f",
            "value": 5000
          }
        },
        "9f8280ce8e8246fe8a73521e2e717847": {
          "model_module": "@jupyter-widgets/controls",
          "model_name": "HTMLModel",
          "model_module_version": "1.5.0",
          "state": {
            "_dom_classes": [],
            "_model_module": "@jupyter-widgets/controls",
            "_model_module_version": "1.5.0",
            "_model_name": "HTMLModel",
            "_view_count": null,
            "_view_module": "@jupyter-widgets/controls",
            "_view_module_version": "1.5.0",
            "_view_name": "HTMLView",
            "description": "",
            "description_tooltip": null,
            "layout": "IPY_MODEL_c96fa6bc2833424fbe5b5a840fe7c74b",
            "placeholder": "​",
            "style": "IPY_MODEL_f29712fb69be4016842d32884b731a67",
            "value": " 5000/5000 [01:14&lt;00:00, 86.62it/s]"
          }
        },
        "a0cc580a66ae4aca8f8141c3f5297283": {
          "model_module": "@jupyter-widgets/base",
          "model_name": "LayoutModel",
          "model_module_version": "1.2.0",
          "state": {
            "_model_module": "@jupyter-widgets/base",
            "_model_module_version": "1.2.0",
            "_model_name": "LayoutModel",
            "_view_count": null,
            "_view_module": "@jupyter-widgets/base",
            "_view_module_version": "1.2.0",
            "_view_name": "LayoutView",
            "align_content": null,
            "align_items": null,
            "align_self": null,
            "border": null,
            "bottom": null,
            "display": null,
            "flex": null,
            "flex_flow": null,
            "grid_area": null,
            "grid_auto_columns": null,
            "grid_auto_flow": null,
            "grid_auto_rows": null,
            "grid_column": null,
            "grid_gap": null,
            "grid_row": null,
            "grid_template_areas": null,
            "grid_template_columns": null,
            "grid_template_rows": null,
            "height": null,
            "justify_content": null,
            "justify_items": null,
            "left": null,
            "margin": null,
            "max_height": null,
            "max_width": null,
            "min_height": null,
            "min_width": null,
            "object_fit": null,
            "object_position": null,
            "order": null,
            "overflow": null,
            "overflow_x": null,
            "overflow_y": null,
            "padding": null,
            "right": null,
            "top": null,
            "visibility": null,
            "width": null
          }
        },
        "07ca789383434ed08bc8d1ec23ab6261": {
          "model_module": "@jupyter-widgets/base",
          "model_name": "LayoutModel",
          "model_module_version": "1.2.0",
          "state": {
            "_model_module": "@jupyter-widgets/base",
            "_model_module_version": "1.2.0",
            "_model_name": "LayoutModel",
            "_view_count": null,
            "_view_module": "@jupyter-widgets/base",
            "_view_module_version": "1.2.0",
            "_view_name": "LayoutView",
            "align_content": null,
            "align_items": null,
            "align_self": null,
            "border": null,
            "bottom": null,
            "display": null,
            "flex": null,
            "flex_flow": null,
            "grid_area": null,
            "grid_auto_columns": null,
            "grid_auto_flow": null,
            "grid_auto_rows": null,
            "grid_column": null,
            "grid_gap": null,
            "grid_row": null,
            "grid_template_areas": null,
            "grid_template_columns": null,
            "grid_template_rows": null,
            "height": null,
            "justify_content": null,
            "justify_items": null,
            "left": null,
            "margin": null,
            "max_height": null,
            "max_width": null,
            "min_height": null,
            "min_width": null,
            "object_fit": null,
            "object_position": null,
            "order": null,
            "overflow": null,
            "overflow_x": null,
            "overflow_y": null,
            "padding": null,
            "right": null,
            "top": null,
            "visibility": null,
            "width": null
          }
        },
        "2d93b821761543b780f117920f6f8964": {
          "model_module": "@jupyter-widgets/controls",
          "model_name": "DescriptionStyleModel",
          "model_module_version": "1.5.0",
          "state": {
            "_model_module": "@jupyter-widgets/controls",
            "_model_module_version": "1.5.0",
            "_model_name": "DescriptionStyleModel",
            "_view_count": null,
            "_view_module": "@jupyter-widgets/base",
            "_view_module_version": "1.2.0",
            "_view_name": "StyleView",
            "description_width": ""
          }
        },
        "00ea650e716f4a49a7334870ac1d8469": {
          "model_module": "@jupyter-widgets/base",
          "model_name": "LayoutModel",
          "model_module_version": "1.2.0",
          "state": {
            "_model_module": "@jupyter-widgets/base",
            "_model_module_version": "1.2.0",
            "_model_name": "LayoutModel",
            "_view_count": null,
            "_view_module": "@jupyter-widgets/base",
            "_view_module_version": "1.2.0",
            "_view_name": "LayoutView",
            "align_content": null,
            "align_items": null,
            "align_self": null,
            "border": null,
            "bottom": null,
            "display": null,
            "flex": null,
            "flex_flow": null,
            "grid_area": null,
            "grid_auto_columns": null,
            "grid_auto_flow": null,
            "grid_auto_rows": null,
            "grid_column": null,
            "grid_gap": null,
            "grid_row": null,
            "grid_template_areas": null,
            "grid_template_columns": null,
            "grid_template_rows": null,
            "height": null,
            "justify_content": null,
            "justify_items": null,
            "left": null,
            "margin": null,
            "max_height": null,
            "max_width": null,
            "min_height": null,
            "min_width": null,
            "object_fit": null,
            "object_position": null,
            "order": null,
            "overflow": null,
            "overflow_x": null,
            "overflow_y": null,
            "padding": null,
            "right": null,
            "top": null,
            "visibility": null,
            "width": null
          }
        },
        "ac2218be3796408e981ad5622ab9cd4f": {
          "model_module": "@jupyter-widgets/controls",
          "model_name": "ProgressStyleModel",
          "model_module_version": "1.5.0",
          "state": {
            "_model_module": "@jupyter-widgets/controls",
            "_model_module_version": "1.5.0",
            "_model_name": "ProgressStyleModel",
            "_view_count": null,
            "_view_module": "@jupyter-widgets/base",
            "_view_module_version": "1.2.0",
            "_view_name": "StyleView",
            "bar_color": null,
            "description_width": ""
          }
        },
        "c96fa6bc2833424fbe5b5a840fe7c74b": {
          "model_module": "@jupyter-widgets/base",
          "model_name": "LayoutModel",
          "model_module_version": "1.2.0",
          "state": {
            "_model_module": "@jupyter-widgets/base",
            "_model_module_version": "1.2.0",
            "_model_name": "LayoutModel",
            "_view_count": null,
            "_view_module": "@jupyter-widgets/base",
            "_view_module_version": "1.2.0",
            "_view_name": "LayoutView",
            "align_content": null,
            "align_items": null,
            "align_self": null,
            "border": null,
            "bottom": null,
            "display": null,
            "flex": null,
            "flex_flow": null,
            "grid_area": null,
            "grid_auto_columns": null,
            "grid_auto_flow": null,
            "grid_auto_rows": null,
            "grid_column": null,
            "grid_gap": null,
            "grid_row": null,
            "grid_template_areas": null,
            "grid_template_columns": null,
            "grid_template_rows": null,
            "height": null,
            "justify_content": null,
            "justify_items": null,
            "left": null,
            "margin": null,
            "max_height": null,
            "max_width": null,
            "min_height": null,
            "min_width": null,
            "object_fit": null,
            "object_position": null,
            "order": null,
            "overflow": null,
            "overflow_x": null,
            "overflow_y": null,
            "padding": null,
            "right": null,
            "top": null,
            "visibility": null,
            "width": null
          }
        },
        "f29712fb69be4016842d32884b731a67": {
          "model_module": "@jupyter-widgets/controls",
          "model_name": "DescriptionStyleModel",
          "model_module_version": "1.5.0",
          "state": {
            "_model_module": "@jupyter-widgets/controls",
            "_model_module_version": "1.5.0",
            "_model_name": "DescriptionStyleModel",
            "_view_count": null,
            "_view_module": "@jupyter-widgets/base",
            "_view_module_version": "1.2.0",
            "_view_name": "StyleView",
            "description_width": ""
          }
        },
        "52cfe0b536f74a1d92ceaf7449238201": {
          "model_module": "@jupyter-widgets/controls",
          "model_name": "HBoxModel",
          "model_module_version": "1.5.0",
          "state": {
            "_dom_classes": [],
            "_model_module": "@jupyter-widgets/controls",
            "_model_module_version": "1.5.0",
            "_model_name": "HBoxModel",
            "_view_count": null,
            "_view_module": "@jupyter-widgets/controls",
            "_view_module_version": "1.5.0",
            "_view_name": "HBoxView",
            "box_style": "",
            "children": [
              "IPY_MODEL_283c072e5bc1428e942c9c7d23377ebc",
              "IPY_MODEL_117a43dc28524498813b956e2f7a53b9",
              "IPY_MODEL_2921275ffbe54b54a9f787cbdeea41f8"
            ],
            "layout": "IPY_MODEL_6bb73a7e007748ac90e0278be5c24a7b"
          }
        },
        "283c072e5bc1428e942c9c7d23377ebc": {
          "model_module": "@jupyter-widgets/controls",
          "model_name": "HTMLModel",
          "model_module_version": "1.5.0",
          "state": {
            "_dom_classes": [],
            "_model_module": "@jupyter-widgets/controls",
            "_model_module_version": "1.5.0",
            "_model_name": "HTMLModel",
            "_view_count": null,
            "_view_module": "@jupyter-widgets/controls",
            "_view_module_version": "1.5.0",
            "_view_name": "HTMLView",
            "description": "",
            "description_tooltip": null,
            "layout": "IPY_MODEL_942bbb08b7644a9997fc4bdf8fd2055a",
            "placeholder": "​",
            "style": "IPY_MODEL_000ae78239e84b189994bb76ab4a8ea6",
            "value": "Best trial: 461. Best value: 0.150099: 100%"
          }
        },
        "117a43dc28524498813b956e2f7a53b9": {
          "model_module": "@jupyter-widgets/controls",
          "model_name": "FloatProgressModel",
          "model_module_version": "1.5.0",
          "state": {
            "_dom_classes": [],
            "_model_module": "@jupyter-widgets/controls",
            "_model_module_version": "1.5.0",
            "_model_name": "FloatProgressModel",
            "_view_count": null,
            "_view_module": "@jupyter-widgets/controls",
            "_view_module_version": "1.5.0",
            "_view_name": "ProgressView",
            "bar_style": "success",
            "description": "",
            "description_tooltip": null,
            "layout": "IPY_MODEL_9b06def648b14102ba9ca8513f60bbc3",
            "max": 5000,
            "min": 0,
            "orientation": "horizontal",
            "style": "IPY_MODEL_0900c0cc828545afb27d169c9fa163c4",
            "value": 5000
          }
        },
        "2921275ffbe54b54a9f787cbdeea41f8": {
          "model_module": "@jupyter-widgets/controls",
          "model_name": "HTMLModel",
          "model_module_version": "1.5.0",
          "state": {
            "_dom_classes": [],
            "_model_module": "@jupyter-widgets/controls",
            "_model_module_version": "1.5.0",
            "_model_name": "HTMLModel",
            "_view_count": null,
            "_view_module": "@jupyter-widgets/controls",
            "_view_module_version": "1.5.0",
            "_view_name": "HTMLView",
            "description": "",
            "description_tooltip": null,
            "layout": "IPY_MODEL_0e566bcbecd54cf7903fbb90ed7677c1",
            "placeholder": "​",
            "style": "IPY_MODEL_10a89edd089f480dade1a2511b249609",
            "value": " 5000/5000 [01:00&lt;00:00, 65.05it/s]"
          }
        },
        "6bb73a7e007748ac90e0278be5c24a7b": {
          "model_module": "@jupyter-widgets/base",
          "model_name": "LayoutModel",
          "model_module_version": "1.2.0",
          "state": {
            "_model_module": "@jupyter-widgets/base",
            "_model_module_version": "1.2.0",
            "_model_name": "LayoutModel",
            "_view_count": null,
            "_view_module": "@jupyter-widgets/base",
            "_view_module_version": "1.2.0",
            "_view_name": "LayoutView",
            "align_content": null,
            "align_items": null,
            "align_self": null,
            "border": null,
            "bottom": null,
            "display": null,
            "flex": null,
            "flex_flow": null,
            "grid_area": null,
            "grid_auto_columns": null,
            "grid_auto_flow": null,
            "grid_auto_rows": null,
            "grid_column": null,
            "grid_gap": null,
            "grid_row": null,
            "grid_template_areas": null,
            "grid_template_columns": null,
            "grid_template_rows": null,
            "height": null,
            "justify_content": null,
            "justify_items": null,
            "left": null,
            "margin": null,
            "max_height": null,
            "max_width": null,
            "min_height": null,
            "min_width": null,
            "object_fit": null,
            "object_position": null,
            "order": null,
            "overflow": null,
            "overflow_x": null,
            "overflow_y": null,
            "padding": null,
            "right": null,
            "top": null,
            "visibility": null,
            "width": null
          }
        },
        "942bbb08b7644a9997fc4bdf8fd2055a": {
          "model_module": "@jupyter-widgets/base",
          "model_name": "LayoutModel",
          "model_module_version": "1.2.0",
          "state": {
            "_model_module": "@jupyter-widgets/base",
            "_model_module_version": "1.2.0",
            "_model_name": "LayoutModel",
            "_view_count": null,
            "_view_module": "@jupyter-widgets/base",
            "_view_module_version": "1.2.0",
            "_view_name": "LayoutView",
            "align_content": null,
            "align_items": null,
            "align_self": null,
            "border": null,
            "bottom": null,
            "display": null,
            "flex": null,
            "flex_flow": null,
            "grid_area": null,
            "grid_auto_columns": null,
            "grid_auto_flow": null,
            "grid_auto_rows": null,
            "grid_column": null,
            "grid_gap": null,
            "grid_row": null,
            "grid_template_areas": null,
            "grid_template_columns": null,
            "grid_template_rows": null,
            "height": null,
            "justify_content": null,
            "justify_items": null,
            "left": null,
            "margin": null,
            "max_height": null,
            "max_width": null,
            "min_height": null,
            "min_width": null,
            "object_fit": null,
            "object_position": null,
            "order": null,
            "overflow": null,
            "overflow_x": null,
            "overflow_y": null,
            "padding": null,
            "right": null,
            "top": null,
            "visibility": null,
            "width": null
          }
        },
        "000ae78239e84b189994bb76ab4a8ea6": {
          "model_module": "@jupyter-widgets/controls",
          "model_name": "DescriptionStyleModel",
          "model_module_version": "1.5.0",
          "state": {
            "_model_module": "@jupyter-widgets/controls",
            "_model_module_version": "1.5.0",
            "_model_name": "DescriptionStyleModel",
            "_view_count": null,
            "_view_module": "@jupyter-widgets/base",
            "_view_module_version": "1.2.0",
            "_view_name": "StyleView",
            "description_width": ""
          }
        },
        "9b06def648b14102ba9ca8513f60bbc3": {
          "model_module": "@jupyter-widgets/base",
          "model_name": "LayoutModel",
          "model_module_version": "1.2.0",
          "state": {
            "_model_module": "@jupyter-widgets/base",
            "_model_module_version": "1.2.0",
            "_model_name": "LayoutModel",
            "_view_count": null,
            "_view_module": "@jupyter-widgets/base",
            "_view_module_version": "1.2.0",
            "_view_name": "LayoutView",
            "align_content": null,
            "align_items": null,
            "align_self": null,
            "border": null,
            "bottom": null,
            "display": null,
            "flex": null,
            "flex_flow": null,
            "grid_area": null,
            "grid_auto_columns": null,
            "grid_auto_flow": null,
            "grid_auto_rows": null,
            "grid_column": null,
            "grid_gap": null,
            "grid_row": null,
            "grid_template_areas": null,
            "grid_template_columns": null,
            "grid_template_rows": null,
            "height": null,
            "justify_content": null,
            "justify_items": null,
            "left": null,
            "margin": null,
            "max_height": null,
            "max_width": null,
            "min_height": null,
            "min_width": null,
            "object_fit": null,
            "object_position": null,
            "order": null,
            "overflow": null,
            "overflow_x": null,
            "overflow_y": null,
            "padding": null,
            "right": null,
            "top": null,
            "visibility": null,
            "width": null
          }
        },
        "0900c0cc828545afb27d169c9fa163c4": {
          "model_module": "@jupyter-widgets/controls",
          "model_name": "ProgressStyleModel",
          "model_module_version": "1.5.0",
          "state": {
            "_model_module": "@jupyter-widgets/controls",
            "_model_module_version": "1.5.0",
            "_model_name": "ProgressStyleModel",
            "_view_count": null,
            "_view_module": "@jupyter-widgets/base",
            "_view_module_version": "1.2.0",
            "_view_name": "StyleView",
            "bar_color": null,
            "description_width": ""
          }
        },
        "0e566bcbecd54cf7903fbb90ed7677c1": {
          "model_module": "@jupyter-widgets/base",
          "model_name": "LayoutModel",
          "model_module_version": "1.2.0",
          "state": {
            "_model_module": "@jupyter-widgets/base",
            "_model_module_version": "1.2.0",
            "_model_name": "LayoutModel",
            "_view_count": null,
            "_view_module": "@jupyter-widgets/base",
            "_view_module_version": "1.2.0",
            "_view_name": "LayoutView",
            "align_content": null,
            "align_items": null,
            "align_self": null,
            "border": null,
            "bottom": null,
            "display": null,
            "flex": null,
            "flex_flow": null,
            "grid_area": null,
            "grid_auto_columns": null,
            "grid_auto_flow": null,
            "grid_auto_rows": null,
            "grid_column": null,
            "grid_gap": null,
            "grid_row": null,
            "grid_template_areas": null,
            "grid_template_columns": null,
            "grid_template_rows": null,
            "height": null,
            "justify_content": null,
            "justify_items": null,
            "left": null,
            "margin": null,
            "max_height": null,
            "max_width": null,
            "min_height": null,
            "min_width": null,
            "object_fit": null,
            "object_position": null,
            "order": null,
            "overflow": null,
            "overflow_x": null,
            "overflow_y": null,
            "padding": null,
            "right": null,
            "top": null,
            "visibility": null,
            "width": null
          }
        },
        "10a89edd089f480dade1a2511b249609": {
          "model_module": "@jupyter-widgets/controls",
          "model_name": "DescriptionStyleModel",
          "model_module_version": "1.5.0",
          "state": {
            "_model_module": "@jupyter-widgets/controls",
            "_model_module_version": "1.5.0",
            "_model_name": "DescriptionStyleModel",
            "_view_count": null,
            "_view_module": "@jupyter-widgets/base",
            "_view_module_version": "1.2.0",
            "_view_name": "StyleView",
            "description_width": ""
          }
        }
      }
    }
  },
  "cells": [
    {
      "cell_type": "markdown",
      "metadata": {
        "id": "view-in-github",
        "colab_type": "text"
      },
      "source": [
        "<a href=\"https://colab.research.google.com/github/Cralsic123/Model-selection-for-abalone-ring/blob/main/Model.ipynb\" target=\"_parent\"><img src=\"https://colab.research.google.com/assets/colab-badge.svg\" alt=\"Open In Colab\"/></a>"
      ]
    },
    {
      "cell_type": "code",
      "source": [
        "!pip install optuna"
      ],
      "metadata": {
        "colab": {
          "base_uri": "https://localhost:8080/"
        },
        "id": "_CoVRECCqRZQ",
        "outputId": "28375d74-cd5d-417f-e803-0f3a2dc42af6"
      },
      "execution_count": null,
      "outputs": [
        {
          "output_type": "stream",
          "name": "stdout",
          "text": [
            "Collecting optuna\n",
            "  Downloading optuna-3.6.1-py3-none-any.whl (380 kB)\n",
            "\u001b[2K     \u001b[90m━━━━━━━━━━━━━━━━━━━━━━━━━━━━━━━━━━━━━━━━\u001b[0m \u001b[32m380.1/380.1 kB\u001b[0m \u001b[31m3.8 MB/s\u001b[0m eta \u001b[36m0:00:00\u001b[0m\n",
            "\u001b[?25hCollecting alembic>=1.5.0 (from optuna)\n",
            "  Downloading alembic-1.13.1-py3-none-any.whl (233 kB)\n",
            "\u001b[2K     \u001b[90m━━━━━━━━━━━━━━━━━━━━━━━━━━━━━━━━━━━━━━━━\u001b[0m \u001b[32m233.4/233.4 kB\u001b[0m \u001b[31m6.6 MB/s\u001b[0m eta \u001b[36m0:00:00\u001b[0m\n",
            "\u001b[?25hCollecting colorlog (from optuna)\n",
            "  Downloading colorlog-6.8.2-py3-none-any.whl (11 kB)\n",
            "Requirement already satisfied: numpy in /usr/local/lib/python3.10/dist-packages (from optuna) (1.25.2)\n",
            "Requirement already satisfied: packaging>=20.0 in /usr/local/lib/python3.10/dist-packages (from optuna) (24.0)\n",
            "Requirement already satisfied: sqlalchemy>=1.3.0 in /usr/local/lib/python3.10/dist-packages (from optuna) (2.0.29)\n",
            "Requirement already satisfied: tqdm in /usr/local/lib/python3.10/dist-packages (from optuna) (4.66.2)\n",
            "Requirement already satisfied: PyYAML in /usr/local/lib/python3.10/dist-packages (from optuna) (6.0.1)\n",
            "Collecting Mako (from alembic>=1.5.0->optuna)\n",
            "  Downloading Mako-1.3.3-py3-none-any.whl (78 kB)\n",
            "\u001b[2K     \u001b[90m━━━━━━━━━━━━━━━━━━━━━━━━━━━━━━━━━━━━━━━━\u001b[0m \u001b[32m78.8/78.8 kB\u001b[0m \u001b[31m8.0 MB/s\u001b[0m eta \u001b[36m0:00:00\u001b[0m\n",
            "\u001b[?25hRequirement already satisfied: typing-extensions>=4 in /usr/local/lib/python3.10/dist-packages (from alembic>=1.5.0->optuna) (4.11.0)\n",
            "Requirement already satisfied: greenlet!=0.4.17 in /usr/local/lib/python3.10/dist-packages (from sqlalchemy>=1.3.0->optuna) (3.0.3)\n",
            "Requirement already satisfied: MarkupSafe>=0.9.2 in /usr/local/lib/python3.10/dist-packages (from Mako->alembic>=1.5.0->optuna) (2.1.5)\n",
            "Installing collected packages: Mako, colorlog, alembic, optuna\n"
          ]
        }
      ]
    },
    {
      "cell_type": "code",
      "execution_count": null,
      "metadata": {
        "id": "l1esdFedqJlK"
      },
      "outputs": [],
      "source": [
        "import seaborn as sns\n",
        "import matplotlib.pyplot as plt\n",
        "import numpy as np\n",
        "import pandas as pd\n",
        "from sklearn.preprocessing import StandardScaler\n",
        "from sklearn.model_selection import KFold\n",
        "from sklearn.metrics import mean_squared_log_error\n",
        "from xgboost import XGBRegressor\n"
      ]
    },
    {
      "cell_type": "code",
      "source": [
        "import optuna\n",
        "from optuna import Trial, visualization\n",
        "from optuna.samplers import TPESampler"
      ],
      "metadata": {
        "id": "9F3t8crlqaBg"
      },
      "execution_count": null,
      "outputs": []
    },
    {
      "cell_type": "code",
      "source": [
        "!mkdir -p ~/.kaggle\n",
        "!mv kaggle.json ~/.kaggle/\n",
        "!chmod 600 ~/.kaggle/kaggle.json"
      ],
      "metadata": {
        "id": "0nHNsayXqMAG"
      },
      "execution_count": null,
      "outputs": []
    },
    {
      "cell_type": "code",
      "source": [
        "!kaggle competitions download -c playground-series-s4e4"
      ],
      "metadata": {
        "id": "LXN5937CqjDh"
      },
      "execution_count": null,
      "outputs": []
    },
    {
      "cell_type": "code",
      "source": [
        "import zipfile\n",
        "with zipfile.ZipFile('/content/playground-series-s4e4.zip', 'r') as zip_ref:\n",
        "    zip_ref.extractall('./')\n",
        "\n"
      ],
      "metadata": {
        "id": "VLlKYIOeqjBF"
      },
      "execution_count": null,
      "outputs": []
    },
    {
      "cell_type": "code",
      "source": [
        "train_df = pd.read_csv(\"/content/train.csv\")\n",
        "test_df = pd.read_csv(\"/content/test.csv\")"
      ],
      "metadata": {
        "id": "CtyDHm6Fqi-q"
      },
      "execution_count": null,
      "outputs": []
    },
    {
      "cell_type": "code",
      "source": [
        "train_df.head()"
      ],
      "metadata": {
        "id": "AIUO-yYvqi8O"
      },
      "execution_count": null,
      "outputs": []
    },
    {
      "cell_type": "code",
      "source": [
        "train_df.info()\n"
      ],
      "metadata": {
        "id": "6016Vw_Lqi3Q"
      },
      "execution_count": null,
      "outputs": []
    },
    {
      "cell_type": "code",
      "source": [
        "def transform_weight(df) :\n",
        "    df['Weight_diff_1'] = df['Whole weight'] - df['Whole weight.1']\n",
        "    df['Weight_diff_2'] = df['Whole weight'] - df['Whole weight.2'] - df['Shell weight']\n",
        "    return df\n",
        "\n",
        "train_df = transform_weight(train_df)\n",
        "test_df = transform_weight(test_df)\n"
      ],
      "metadata": {
        "id": "pNivX94Uqi0i"
      },
      "execution_count": null,
      "outputs": []
    },
    {
      "cell_type": "code",
      "source": [
        "pd.DataFrame(train_df.Rings.value_counts())"
      ],
      "metadata": {
        "id": "CEPSP73pD-cH"
      },
      "execution_count": null,
      "outputs": []
    },
    {
      "cell_type": "code",
      "source": [
        "test_df.shape"
      ],
      "metadata": {
        "id": "WPDENTMGUHVE"
      },
      "execution_count": null,
      "outputs": []
    },
    {
      "cell_type": "code",
      "source": [
        "numeric_cols = ['Length', 'Diameter', 'Height', 'Whole weight',\n",
        "       'Whole weight.1', 'Whole weight.2', 'Shell weight',\n",
        "       'Weight_diff_1', 'Weight_diff_2']\n",
        "categorical_cols = ['Sex']\n",
        "train_to_scale = train_df[numeric_cols]\n",
        "test_to_scale = test_df[numeric_cols]"
      ],
      "metadata": {
        "id": "zoJOyhXRqix6"
      },
      "execution_count": null,
      "outputs": []
    },
    {
      "cell_type": "code",
      "source": [
        "test_to_scale.shape"
      ],
      "metadata": {
        "id": "9BfeT-4CX18G"
      },
      "execution_count": null,
      "outputs": []
    },
    {
      "cell_type": "code",
      "source": [
        "sns.set_style(\"whitegrid\")\n",
        "palette = sns.color_palette(\"hls\", len(numeric_cols))\n",
        "fig, axs = plt.subplots(len(numeric_cols), figsize=(20, len(numeric_cols)*6))\n",
        "\n",
        "for i, col in enumerate(numeric_cols):\n",
        "    sns.violinplot(x=train_to_scale[col], ax=axs[i], inner=\"quartile\", palette=[palette[i]])\n",
        "    axs[i].set_title('Feature Distribution for ' + col, fontsize=30)\n",
        "    axs[i].set_xlabel(col, fontsize=26)\n",
        "    axs[i].set_ylabel('Density', fontsize=26)\n",
        "plt.tight_layout()\n",
        "plt.show()"
      ],
      "metadata": {
        "id": "z4K-w39nEBky"
      },
      "execution_count": null,
      "outputs": []
    },
    {
      "cell_type": "markdown",
      "source": [
        "Feature distribution of Length and Diameter look same showing that the Longest shell measurement and measurement Perpendicular to length for an abalone are proportional"
      ],
      "metadata": {
        "id": "tEfEpxlBEhUW"
      }
    },
    {
      "cell_type": "code",
      "source": [
        "correlation_matrix = train_to_scale.corr()\n",
        "plt.figure(figsize=(10, 8))\n",
        "sns.heatmap(correlation_matrix, annot=True, cmap='Greens', fmt='.2f', linewidths=.5)\n",
        "plt.title('Correlation Matrix (Lower Triangle)')\n",
        "plt.show()"
      ],
      "metadata": {
        "id": "sQ1TZRWFEGEm"
      },
      "execution_count": null,
      "outputs": []
    },
    {
      "cell_type": "code",
      "source": [
        "sc = StandardScaler()\n",
        "def scale_num_cols(df) :\n",
        "    scaled_df = pd.DataFrame(sc.fit_transform(df), columns=df.columns)\n",
        "    return scaled_df\n",
        "\n",
        "scaled_train = scale_num_cols(train_to_scale)\n",
        "scaled_test = scale_num_cols(test_to_scale)"
      ],
      "metadata": {
        "id": "EbhehQ7zElwy"
      },
      "execution_count": null,
      "outputs": []
    },
    {
      "cell_type": "code",
      "source": [
        "scaled_train.head()"
      ],
      "metadata": {
        "id": "5xtyrDKWEsCv"
      },
      "execution_count": null,
      "outputs": []
    },
    {
      "cell_type": "markdown",
      "source": [
        "ONE HOT ENCODING"
      ],
      "metadata": {
        "id": "kGkWTNl3EysM"
      }
    },
    {
      "cell_type": "code",
      "source": [
        "train_to_ohe = train_df[categorical_cols]\n",
        "test_to_ohe = test_df[categorical_cols]\n",
        "train_to_ohe.head()"
      ],
      "metadata": {
        "id": "b7abZ2lEEucZ"
      },
      "execution_count": null,
      "outputs": []
    },
    {
      "cell_type": "code",
      "source": [
        "ohe_train = pd.get_dummies(train_to_ohe, columns =train_to_ohe.columns )\n",
        "ohe_test  = pd.get_dummies(test_to_ohe, columns = train_to_ohe.columns)\n",
        "ohe_train.head()"
      ],
      "metadata": {
        "id": "t4QSut9REwUH"
      },
      "execution_count": null,
      "outputs": []
    },
    {
      "cell_type": "code",
      "source": [
        "train_df_1 = pd.concat([ohe_train, scaled_train], axis =1)\n",
        "test_df_1 = pd.concat([ohe_test, scaled_test], axis =1)\n",
        "train_df_1.head()"
      ],
      "metadata": {
        "id": "Oh58J87KE8nt"
      },
      "execution_count": null,
      "outputs": []
    },
    {
      "cell_type": "code",
      "source": [
        "test_df_1.shape"
      ],
      "metadata": {
        "id": "nHoohcBNYAO0"
      },
      "execution_count": null,
      "outputs": []
    },
    {
      "cell_type": "code",
      "source": [
        "import xgboost as xgb\n",
        "from sklearn.model_selection import StratifiedKFold\n",
        "from sklearn.preprocessing import LabelEncoder\n",
        "from sklearn.model_selection import train_test_split"
      ],
      "metadata": {
        "id": "O2zdX2MyFCyB"
      },
      "execution_count": null,
      "outputs": []
    },
    {
      "cell_type": "code",
      "source": [
        "y = train_df['Rings']\n",
        "X= train_df_1"
      ],
      "metadata": {
        "id": "XjbTzpmbFFqO"
      },
      "execution_count": null,
      "outputs": []
    },
    {
      "cell_type": "code",
      "source": [
        "X.columns.shape[0]"
      ],
      "metadata": {
        "id": "p4XLjbvZFIml"
      },
      "execution_count": null,
      "outputs": []
    },
    {
      "cell_type": "code",
      "source": [
        "!pip install lightgbm"
      ],
      "metadata": {
        "id": "l5Fzo7BcFYk2"
      },
      "execution_count": null,
      "outputs": []
    },
    {
      "cell_type": "code",
      "source": [
        "!pip install catboost"
      ],
      "metadata": {
        "id": "93xK7vtkFb70"
      },
      "execution_count": null,
      "outputs": []
    },
    {
      "cell_type": "code",
      "source": [
        "\n",
        "from lightgbm import LGBMRegressor\n",
        "from catboost import CatBoostRegressor\n",
        "from xgboost import XGBRegressor\n",
        "from sklearn.ensemble import RandomForestRegressor, HistGradientBoostingRegressor\n",
        "from sklearn.neural_network import MLPRegressor\n",
        "from sklearn.metrics import mean_squared_log_error\n",
        "from sklearn.model_selection import KFold\n",
        "\n",
        "def train_model(model_type='xgboost', n_splits=10, X=X, y=y, x_test=test_df_1, model_params=None, use_gpu=False):\n",
        "    n_splits = n_splits\n",
        "\n",
        "    # KFold\n",
        "    kf = KFold(n_splits=n_splits, shuffle=True, random_state=42)\n",
        "\n",
        "    # cross-validation results\n",
        "    cv_results = []\n",
        "    y_test_preds = []\n",
        "\n",
        "    y_val_preds = np.zeros((X.shape[0], 1))\n",
        "    for fold, (train_idx, val_idx) in enumerate(kf.split(X)):\n",
        "\n",
        "        X_train, X_val = X.iloc[train_idx], X.iloc[val_idx]\n",
        "        y_train, y_val = y[train_idx], y[val_idx]\n",
        "        # Model\n",
        "        if model_type == 'xgboost':\n",
        "            if model_params is None:\n",
        "                model_params = {}\n",
        "            if use_gpu:\n",
        "                model_params['device'] = 'cuda'\n",
        "            model = XGBRegressor(**model_params)\n",
        "        elif model_type == 'xgboostRMSLE':\n",
        "            if model_params is None:\n",
        "                model_params = {}\n",
        "            if use_gpu:\n",
        "                model_params['device'] = 'cuda'\n",
        "            model = XGBRegressor(**model_params)\n",
        "        elif model_type == 'lightgbm':\n",
        "            if model_params is None:\n",
        "                model_params = {}\n",
        "            model = LGBMRegressor(**model_params)\n",
        "        elif model_type == 'catboost':\n",
        "            if model_params is None:\n",
        "                model_params = {}\n",
        "            if use_gpu:\n",
        "                model_params['task_type'] = 'GPU'\n",
        "            model = CatBoostRegressor(**model_params, verbose = 0)\n",
        "        elif model_type == 'randomforest':\n",
        "            if model_params is None:\n",
        "                model_params = {}\n",
        "            model = RandomForestRegressor(**model_params)\n",
        "        elif model_type == 'histgradientboosting':\n",
        "            if model_params is None:\n",
        "                model_params = {}\n",
        "            model = HistGradientBoostingRegressor(**model_params)\n",
        "        elif model_type == 'neuralnetwork':\n",
        "            if model_params is None:\n",
        "                model_params = {}\n",
        "            model = MLPRegressor(**model_params)\n",
        "\n",
        "        model.fit(X_train, y_train)\n",
        "        y_val_pred = model.predict(X_val)\n",
        "\n",
        "        y_val_preds[val_idx] = y_val_pred.reshape(-1,1)\n",
        "\n",
        "        y_test_pred = model.predict(x_test)\n",
        "        y_test_preds.append(y_test_pred)\n",
        "\n",
        "        # Evaluating the model\n",
        "        mse = mean_squared_log_error(y_val, y_val_pred)\n",
        "        rmse = np.sqrt(mse)\n",
        "\n",
        "        print(f'Fold {fold + 1}, Root Mean Squared Logarithmic Error on Validation Set: {rmse}')\n",
        "        print('-'*70)\n",
        "\n",
        "        # results\n",
        "        cv_results.append(rmse)\n",
        "\n",
        "    # average cross-validation result\n",
        "    average_cv_result = sum(cv_results) / n_splits\n",
        "    print(f'\\nAverage Root Mean Squared Logarithmic Error across {n_splits} folds: {average_cv_result}')\n",
        "\n",
        "    return cv_results, model, y_val_preds, y_test_preds"
      ],
      "metadata": {
        "id": "GbvxMqEwFIkT"
      },
      "execution_count": null,
      "outputs": []
    },
    {
      "cell_type": "markdown",
      "source": [
        "FOR XG BOOST"
      ],
      "metadata": {
        "id": "xOI3yDr-F5hk"
      }
    },
    {
      "cell_type": "code",
      "source": [
        "best_params_xgb =  {'max_depth': 10,'random_state':42,'device': 'cuda','booster': 'gbtree','n_estimators': 1137, 'tree_method': 'hist','min_child_weight': 7,  'grow_policy': 'lossguide', 'gamma': 0.03816426816838989, 'subsample': 0.486382907668344, 'objective': 'reg:squarederror','reg_lambda': 1.7487237399420372, 'reg_alpha': 0.013043045359306716,'learning_rate': 0.011733966748427322, 'colsample_bytree': 0.5748511749872887,\n",
        "}"
      ],
      "metadata": {
        "id": "ZPas9M1zFIhv"
      },
      "execution_count": null,
      "outputs": []
    },
    {
      "cell_type": "code",
      "source": [
        "cv_results_xgb, xgb_model, y_val_pred_xgb, y_test_pred_xgb = train_model(model_type='xgboost', n_splits=10, X=X, y=y, use_gpu=True, model_params = best_params_xgb)"
      ],
      "metadata": {
        "colab": {
          "base_uri": "https://localhost:8080/"
        },
        "id": "VIGSLoKtFIfT",
        "outputId": "f6309694-56bf-4d98-e928-a51809028b67"
      },
      "execution_count": null,
      "outputs": [
        {
          "output_type": "stream",
          "name": "stderr",
          "text": [
            "/usr/local/lib/python3.10/dist-packages/xgboost/core.py:160: UserWarning: [15:16:44] WARNING: /workspace/src/common/error_msg.cc:58: Falling back to prediction using DMatrix due to mismatched devices. This might lead to higher memory usage and slower performance. XGBoost is running on: cuda:0, while the input data is on: cpu.\n",
            "Potential solutions:\n",
            "- Use a data structure that matches the device ordinal in the booster.\n",
            "- Set the device for booster before call to inplace_predict.\n",
            "\n",
            "This warning will only be shown once.\n",
            "\n",
            "  warnings.warn(smsg, UserWarning)\n"
          ]
        },
        {
          "output_type": "stream",
          "name": "stdout",
          "text": [
            "Fold 1, Root Mean Squared Logarithmic Error on Validation Set: 0.14925396892770834\n",
            "----------------------------------------------------------------------\n",
            "Fold 2, Root Mean Squared Logarithmic Error on Validation Set: 0.15224837073064945\n",
            "----------------------------------------------------------------------\n",
            "Fold 3, Root Mean Squared Logarithmic Error on Validation Set: 0.14789578017335248\n",
            "----------------------------------------------------------------------\n",
            "Fold 4, Root Mean Squared Logarithmic Error on Validation Set: 0.1529757102016355\n",
            "----------------------------------------------------------------------\n",
            "Fold 5, Root Mean Squared Logarithmic Error on Validation Set: 0.1495646934787606\n",
            "----------------------------------------------------------------------\n",
            "Fold 6, Root Mean Squared Logarithmic Error on Validation Set: 0.14844357801223915\n",
            "----------------------------------------------------------------------\n",
            "Fold 7, Root Mean Squared Logarithmic Error on Validation Set: 0.14689015983945794\n",
            "----------------------------------------------------------------------\n",
            "Fold 8, Root Mean Squared Logarithmic Error on Validation Set: 0.15166425662312344\n",
            "----------------------------------------------------------------------\n",
            "Fold 9, Root Mean Squared Logarithmic Error on Validation Set: 0.14790936774268296\n",
            "----------------------------------------------------------------------\n",
            "Fold 10, Root Mean Squared Logarithmic Error on Validation Set: 0.14693922776285165\n",
            "----------------------------------------------------------------------\n",
            "\n",
            "Average Root Mean Squared Logarithmic Error across 10 folds: 0.14937851134924615\n"
          ]
        }
      ]
    },
    {
      "cell_type": "code",
      "source": [
        "predictions = xgb_model.predict(test_df_1)"
      ],
      "metadata": {
        "id": "2gv-WrjPu1CI"
      },
      "execution_count": null,
      "outputs": []
    },
    {
      "cell_type": "code",
      "source": [
        "predictions"
      ],
      "metadata": {
        "colab": {
          "base_uri": "https://localhost:8080/"
        },
        "id": "kltWuenSxb8t",
        "outputId": "70f6a5de-2e33-4a95-b37a-e25bc18a14bd"
      },
      "execution_count": null,
      "outputs": [
        {
          "output_type": "execute_result",
          "data": {
            "text/plain": [
              "array([ 9.896539,  9.473007, 10.117287, ..., 11.843922, 12.766056,\n",
              "        9.069344], dtype=float32)"
            ]
          },
          "metadata": {},
          "execution_count": 35
        }
      ]
    },
    {
      "cell_type": "code",
      "source": [
        "results_df_DL = pd.DataFrame({'id': test_df['id'], 'Rings': predictions.flatten()})\n",
        "results_df_DL.to_csv(\"submission.csv\", index=False)"
      ],
      "metadata": {
        "id": "Za8tfxUlu0-p"
      },
      "execution_count": null,
      "outputs": []
    },
    {
      "cell_type": "markdown",
      "source": [
        "Trying a different weights"
      ],
      "metadata": {
        "id": "lomYgTQoyFMK"
      }
    },
    {
      "cell_type": "code",
      "source": [
        "best_params_xgb =  {'max_depth': 11,'random_state':42,'device': 'cuda','booster': 'gbtree','n_estimators': 1237, 'tree_method': 'hist','min_child_weight': 8,  'grow_policy': 'lossguide', 'gamma': 0.03999426816838989, 'subsample': 0.486382907668344, 'objective': 'reg:squarederror','reg_lambda': 1.9487237399420372, 'reg_alpha': 0.003043045359306716,'learning_rate': 0.010033966748427322, 'colsample_bytree': 0.5748511749872887,\n",
        "}"
      ],
      "metadata": {
        "id": "cAPMBm7Su070"
      },
      "execution_count": null,
      "outputs": []
    },
    {
      "cell_type": "code",
      "source": [
        "cv_results_xgb, xgb_model, y_val_pred_xgb, y_test_pred_xgb = train_model(model_type='xgboost', n_splits=10, X=X, y=y, use_gpu=True, model_params = best_params_xgb)"
      ],
      "metadata": {
        "colab": {
          "base_uri": "https://localhost:8080/"
        },
        "id": "ssOPTa0wu044",
        "outputId": "47d74de1-ece2-4f58-aeed-8fcad2398851"
      },
      "execution_count": null,
      "outputs": [
        {
          "output_type": "stream",
          "name": "stdout",
          "text": [
            "Fold 1, Root Mean Squared Logarithmic Error on Validation Set: 0.14944908674040538\n",
            "----------------------------------------------------------------------\n",
            "Fold 2, Root Mean Squared Logarithmic Error on Validation Set: 0.15206277166938378\n",
            "----------------------------------------------------------------------\n",
            "Fold 3, Root Mean Squared Logarithmic Error on Validation Set: 0.14791356737825906\n",
            "----------------------------------------------------------------------\n",
            "Fold 4, Root Mean Squared Logarithmic Error on Validation Set: 0.15294533260992255\n",
            "----------------------------------------------------------------------\n",
            "Fold 5, Root Mean Squared Logarithmic Error on Validation Set: 0.1496616205546562\n",
            "----------------------------------------------------------------------\n",
            "Fold 6, Root Mean Squared Logarithmic Error on Validation Set: 0.14845323115583575\n",
            "----------------------------------------------------------------------\n",
            "Fold 7, Root Mean Squared Logarithmic Error on Validation Set: 0.1469782452328719\n",
            "----------------------------------------------------------------------\n",
            "Fold 8, Root Mean Squared Logarithmic Error on Validation Set: 0.15178541041739618\n",
            "----------------------------------------------------------------------\n",
            "Fold 9, Root Mean Squared Logarithmic Error on Validation Set: 0.1477878444418277\n",
            "----------------------------------------------------------------------\n",
            "Fold 10, Root Mean Squared Logarithmic Error on Validation Set: 0.146883037414268\n",
            "----------------------------------------------------------------------\n",
            "\n",
            "Average Root Mean Squared Logarithmic Error across 10 folds: 0.14939201476148262\n"
          ]
        }
      ]
    },
    {
      "cell_type": "code",
      "source": [
        "predictions1 = xgb_model.predict(test_df_1)"
      ],
      "metadata": {
        "id": "0KJuTuzCu017"
      },
      "execution_count": null,
      "outputs": []
    },
    {
      "cell_type": "code",
      "source": [
        "results_df_DL = pd.DataFrame({'id': test_df['id'], 'Rings': predictions1.flatten()})\n",
        "results_df_DL.to_csv(\"submission_2.csv\", index=False)"
      ],
      "metadata": {
        "id": "miyrsFuYu0zR"
      },
      "execution_count": null,
      "outputs": []
    },
    {
      "cell_type": "code",
      "source": [],
      "metadata": {
        "id": "1eqi0dCou0wK"
      },
      "execution_count": null,
      "outputs": []
    },
    {
      "cell_type": "markdown",
      "source": [
        "NOW LGBM\n"
      ],
      "metadata": {
        "id": "j7fuy5F0HMbM"
      }
    },
    {
      "cell_type": "code",
      "source": [
        "!pip install OpenCL"
      ],
      "metadata": {
        "colab": {
          "base_uri": "https://localhost:8080/"
        },
        "id": "koTEVdwzTymc",
        "outputId": "10ad58ef-7116-41bd-a3ed-ca27fe227a5a"
      },
      "execution_count": null,
      "outputs": [
        {
          "output_type": "stream",
          "name": "stdout",
          "text": [
            "\u001b[31mERROR: Could not find a version that satisfies the requirement OpenCL (from versions: none)\u001b[0m\u001b[31m\n",
            "\u001b[0m\u001b[31mERROR: No matching distribution found for OpenCL\u001b[0m\u001b[31m\n",
            "\u001b[0m"
          ]
        }
      ]
    },
    {
      "cell_type": "code",
      "source": [
        "import lightgbm as lgb\n",
        "\n",
        "model = lgb.LGBMRegressor(device='cpu')"
      ],
      "metadata": {
        "id": "UAYcrUUu05lf"
      },
      "execution_count": null,
      "outputs": []
    },
    {
      "cell_type": "code",
      "source": [
        "\n",
        "best_params_lgbm = {'metric':'rmse', 'device':'gpu', 'verbosity': -1,'max_depth': 15,'random_state':42,'num_leaves': 138, 'n_estimators': 913, 'boosting_type': 'gbdt', 'min_child_samples': 34,\n",
        "     'objective':'regression',\n",
        "     'subsample_for_bin': 185680,\n",
        "     'subsample': 0.799314727120346,\n",
        "     'reg_alpha': 5.916235901972299e-09,\n",
        "     'reg_lambda': 6.943912907338958e-08,\n",
        "     'learning_rate': 0.01851440025520457,\n",
        "     'colsample_bytree': 0.4339090795122026,\n",
        "}"
      ],
      "metadata": {
        "id": "24jkFCHtFIc4"
      },
      "execution_count": null,
      "outputs": []
    },
    {
      "cell_type": "code",
      "source": [
        "train_data = lgb.Dataset(X, label=y)"
      ],
      "metadata": {
        "id": "OIOvx6yZ2mWj"
      },
      "execution_count": null,
      "outputs": []
    },
    {
      "cell_type": "code",
      "source": [
        "lgbm_model = model.train(best_params_lgbm, train_data , num_boost_round=100)"
      ],
      "metadata": {
        "colab": {
          "base_uri": "https://localhost:8080/",
          "height": 198
        },
        "id": "JE6-oMxrFIac",
        "outputId": "108dd09e-a8b9-46f1-be07-105c4738c52c"
      },
      "execution_count": null,
      "outputs": [
        {
          "output_type": "error",
          "ename": "AttributeError",
          "evalue": "'LGBMRegressor' object has no attribute 'train'",
          "traceback": [
            "\u001b[0;31m---------------------------------------------------------------------------\u001b[0m",
            "\u001b[0;31mAttributeError\u001b[0m                            Traceback (most recent call last)",
            "\u001b[0;32m<ipython-input-64-6937e004c5ce>\u001b[0m in \u001b[0;36m<cell line: 1>\u001b[0;34m()\u001b[0m\n\u001b[0;32m----> 1\u001b[0;31m \u001b[0mlgbm_model\u001b[0m \u001b[0;34m=\u001b[0m \u001b[0mmodel\u001b[0m\u001b[0;34m.\u001b[0m\u001b[0mtrain\u001b[0m\u001b[0;34m(\u001b[0m\u001b[0mbest_params_lgbm\u001b[0m\u001b[0;34m,\u001b[0m \u001b[0mtrain_data\u001b[0m \u001b[0;34m,\u001b[0m \u001b[0mnum_boost_round\u001b[0m\u001b[0;34m=\u001b[0m\u001b[0;36m100\u001b[0m\u001b[0;34m)\u001b[0m\u001b[0;34m\u001b[0m\u001b[0;34m\u001b[0m\u001b[0m\n\u001b[0m",
            "\u001b[0;31mAttributeError\u001b[0m: 'LGBMRegressor' object has no attribute 'train'"
          ]
        }
      ]
    },
    {
      "cell_type": "code",
      "source": [
        "best_params_cb = {'depth': 15, 'max_bin': 464,'random_state':42,'task_type': 'CPU', 'eval_metric': 'RMSE', 'min_data_in_leaf': 78, 'loss_function': 'RMSE', 'grow_policy': 'Lossguide', 'bootstrap_type': 'Bernoulli', 'subsample': 0.83862137638162, 'l2_leaf_reg': 8.365422739510098, 'random_strength': 3.296124856352495, 'learning_rate': 0.09992185242598203,\n",
        "}"
      ],
      "metadata": {
        "id": "5X9wKx0BHWGJ"
      },
      "execution_count": null,
      "outputs": []
    },
    {
      "cell_type": "code",
      "source": [
        "cv_results_cb, catboost_model, y_val_pred_cb, y_test_pred_cb = train_model(model_type='catboost', n_splits=10, X=X, y=y, use_gpu=True, model_params = best_params_cb)"
      ],
      "metadata": {
        "colab": {
          "base_uri": "https://localhost:8080/"
        },
        "id": "K4Fk6XY8Hzib",
        "outputId": "d1bbdae9-f4bd-4a28-f599-15f6e60fa74c"
      },
      "execution_count": null,
      "outputs": [
        {
          "output_type": "stream",
          "name": "stdout",
          "text": [
            "Fold 1, Root Mean Squared Logarithmic Error on Validation Set: 0.1487939046473861\n",
            "----------------------------------------------------------------------\n",
            "Fold 2, Root Mean Squared Logarithmic Error on Validation Set: 0.15185873891050983\n",
            "----------------------------------------------------------------------\n",
            "Fold 3, Root Mean Squared Logarithmic Error on Validation Set: 0.14804516477154814\n",
            "----------------------------------------------------------------------\n",
            "Fold 4, Root Mean Squared Logarithmic Error on Validation Set: 0.15303377543552646\n",
            "----------------------------------------------------------------------\n",
            "Fold 5, Root Mean Squared Logarithmic Error on Validation Set: 0.14943827091109965\n",
            "----------------------------------------------------------------------\n",
            "Fold 6, Root Mean Squared Logarithmic Error on Validation Set: 0.14863405079182676\n",
            "----------------------------------------------------------------------\n",
            "Fold 7, Root Mean Squared Logarithmic Error on Validation Set: 0.14673230664259235\n",
            "----------------------------------------------------------------------\n",
            "Fold 8, Root Mean Squared Logarithmic Error on Validation Set: 0.15171177774074102\n",
            "----------------------------------------------------------------------\n",
            "Fold 9, Root Mean Squared Logarithmic Error on Validation Set: 0.14738862305661463\n",
            "----------------------------------------------------------------------\n",
            "Fold 10, Root Mean Squared Logarithmic Error on Validation Set: 0.14647933851639128\n",
            "----------------------------------------------------------------------\n",
            "\n",
            "Average Root Mean Squared Logarithmic Error across 10 folds: 0.14921159514242363\n"
          ]
        }
      ]
    },
    {
      "cell_type": "code",
      "source": [
        "predictions = catboost_model.predict(test_df_1)"
      ],
      "metadata": {
        "id": "18ZwN0R03Dmm"
      },
      "execution_count": null,
      "outputs": []
    },
    {
      "cell_type": "code",
      "source": [
        "predictions_net = (predictions + predictions1)/2"
      ],
      "metadata": {
        "id": "RMYhPQMI5Bas"
      },
      "execution_count": null,
      "outputs": []
    },
    {
      "cell_type": "code",
      "source": [],
      "metadata": {
        "id": "HeepXB2q5BX0"
      },
      "execution_count": null,
      "outputs": []
    },
    {
      "cell_type": "code",
      "source": [
        "results_df_DL = pd.DataFrame({'id': test_df['id'], 'Rings': predictions_net.flatten()})\n",
        "results_df_DL.to_csv(\"submission_3.csv\", index=False)"
      ],
      "metadata": {
        "id": "pGLl7f4o3Dj4"
      },
      "execution_count": null,
      "outputs": []
    },
    {
      "cell_type": "code",
      "source": [
        "best_params_rf  ={'n_estimators': 112,\n",
        " 'max_depth': 10,\n",
        " 'min_samples_split': 3,\n",
        " 'min_samples_leaf': 3}"
      ],
      "metadata": {
        "id": "erjrQ6ebH1L4"
      },
      "execution_count": null,
      "outputs": []
    },
    {
      "cell_type": "code",
      "source": [
        "cv_results_rf, rfmodel, y_val_pred_rf, y_test_pred_rf = train_model(model_type='randomforest', n_splits=10, X=X, y=y, use_gpu=False, model_params = best_params_rf)"
      ],
      "metadata": {
        "colab": {
          "base_uri": "https://localhost:8080/"
        },
        "id": "YaOzWV3aKS5r",
        "outputId": "432d1b9e-041f-41d9-bede-c0bd8dbfd44d"
      },
      "execution_count": null,
      "outputs": [
        {
          "output_type": "stream",
          "name": "stdout",
          "text": [
            "Fold 1, Root Mean Squared Logarithmic Error on Validation Set: 0.1518702421983524\n",
            "----------------------------------------------------------------------\n",
            "Fold 2, Root Mean Squared Logarithmic Error on Validation Set: 0.15455017496622162\n",
            "----------------------------------------------------------------------\n",
            "Fold 3, Root Mean Squared Logarithmic Error on Validation Set: 0.14981095241790263\n",
            "----------------------------------------------------------------------\n",
            "Fold 4, Root Mean Squared Logarithmic Error on Validation Set: 0.15443494380121128\n",
            "----------------------------------------------------------------------\n",
            "Fold 5, Root Mean Squared Logarithmic Error on Validation Set: 0.15126177840807856\n",
            "----------------------------------------------------------------------\n",
            "Fold 6, Root Mean Squared Logarithmic Error on Validation Set: 0.15050388892070407\n",
            "----------------------------------------------------------------------\n",
            "Fold 7, Root Mean Squared Logarithmic Error on Validation Set: 0.1484869091667212\n",
            "----------------------------------------------------------------------\n",
            "Fold 8, Root Mean Squared Logarithmic Error on Validation Set: 0.15311239802317086\n",
            "----------------------------------------------------------------------\n",
            "Fold 9, Root Mean Squared Logarithmic Error on Validation Set: 0.14924265809808082\n",
            "----------------------------------------------------------------------\n",
            "Fold 10, Root Mean Squared Logarithmic Error on Validation Set: 0.1476550093766616\n",
            "----------------------------------------------------------------------\n",
            "\n",
            "Average Root Mean Squared Logarithmic Error across 10 folds: 0.1510928955377105\n"
          ]
        }
      ]
    },
    {
      "cell_type": "markdown",
      "source": [
        "MLP Regressor"
      ],
      "metadata": {
        "id": "Cwl9JmFnLiLE"
      }
    },
    {
      "cell_type": "code",
      "source": [
        "best_params_mlpr ={'hidden_layer_sizes': (100,),\n",
        " 'activation': 'logistic',\n",
        " 'learning_rate_init': 0.03416272700029748,\n",
        " 'max_iter': 906}"
      ],
      "metadata": {
        "id": "44QWjlTOKS2u"
      },
      "execution_count": null,
      "outputs": []
    },
    {
      "cell_type": "code",
      "source": [
        "cv_results_nn, mlprmodel, y_val_pred_nn, y_test_pred_nn = train_model(model_type='neuralnetwork', n_splits=10, X=X, y=y, use_gpu=False, model_params = best_params_mlpr)"
      ],
      "metadata": {
        "colab": {
          "base_uri": "https://localhost:8080/"
        },
        "id": "eDxD4Bq9KS0F",
        "outputId": "08769c65-5a6d-4209-bbd9-2b225a121e72"
      },
      "execution_count": null,
      "outputs": [
        {
          "output_type": "stream",
          "name": "stdout",
          "text": [
            "Fold 1, Root Mean Squared Logarithmic Error on Validation Set: 0.15300324627553388\n",
            "----------------------------------------------------------------------\n",
            "Fold 2, Root Mean Squared Logarithmic Error on Validation Set: 0.15617644818486193\n",
            "----------------------------------------------------------------------\n",
            "Fold 3, Root Mean Squared Logarithmic Error on Validation Set: 0.15246401984882385\n",
            "----------------------------------------------------------------------\n",
            "Fold 4, Root Mean Squared Logarithmic Error on Validation Set: 0.16308565070568956\n",
            "----------------------------------------------------------------------\n",
            "Fold 5, Root Mean Squared Logarithmic Error on Validation Set: 0.15511173430441982\n",
            "----------------------------------------------------------------------\n",
            "Fold 6, Root Mean Squared Logarithmic Error on Validation Set: 0.1518240659747843\n",
            "----------------------------------------------------------------------\n",
            "Fold 7, Root Mean Squared Logarithmic Error on Validation Set: 0.14915078150759292\n",
            "----------------------------------------------------------------------\n",
            "Fold 8, Root Mean Squared Logarithmic Error on Validation Set: 0.15728719936569432\n",
            "----------------------------------------------------------------------\n",
            "Fold 9, Root Mean Squared Logarithmic Error on Validation Set: 0.14989611492515\n",
            "----------------------------------------------------------------------\n",
            "Fold 10, Root Mean Squared Logarithmic Error on Validation Set: 0.1500612231650306\n",
            "----------------------------------------------------------------------\n",
            "\n",
            "Average Root Mean Squared Logarithmic Error across 10 folds: 0.15380604842575812\n"
          ]
        }
      ]
    },
    {
      "cell_type": "code",
      "source": [
        "best_params_xgbrsmle = {'max_depth': 10, 'random_state':42,\n",
        "    'device': 'cuda',\n",
        "    'booster': 'gbtree',\n",
        "    'n_estimators': 1137,\n",
        "    'tree_method': 'hist',\n",
        "    'min_child_weight': 7,\n",
        "    'grow_policy': 'lossguide',\n",
        "    'gamma': 0.03816426816838989,\n",
        "    'subsample': 0.486382907668344,\n",
        "    'objective': 'reg:squaredlogerror',\n",
        "    'reg_lambda': 1.7487237399420372,\n",
        "    'reg_alpha': 0.013043045359306716,\n",
        "    'learning_rate': 0.011733966748427322,\n",
        "    'colsample_bytree': 0.5748511749872887,\n",
        "}"
      ],
      "metadata": {
        "id": "DB4EzHOyKSw-"
      },
      "execution_count": null,
      "outputs": []
    },
    {
      "cell_type": "code",
      "source": [
        "cv_results_xgbrmsle, xgbrmslemodel, y_val_pred_xgbrmsle, y_test_pred_xgbrmsle = train_model(model_type='xgboostRMSLE', n_splits=10, X=X, y=y, use_gpu=True, model_params = best_params_xgbrsmle)"
      ],
      "metadata": {
        "colab": {
          "base_uri": "https://localhost:8080/"
        },
        "id": "I4ARR4YcKSvR",
        "outputId": "4bda5483-223d-4df8-ca7a-bba9321dfbe0"
      },
      "execution_count": null,
      "outputs": [
        {
          "output_type": "stream",
          "name": "stdout",
          "text": [
            "Fold 1, Root Mean Squared Logarithmic Error on Validation Set: 0.152719045512609\n",
            "----------------------------------------------------------------------\n",
            "Fold 2, Root Mean Squared Logarithmic Error on Validation Set: 0.15610986097639581\n",
            "----------------------------------------------------------------------\n",
            "Fold 3, Root Mean Squared Logarithmic Error on Validation Set: 0.15113234239084575\n",
            "----------------------------------------------------------------------\n",
            "Fold 4, Root Mean Squared Logarithmic Error on Validation Set: 0.1554569618326883\n",
            "----------------------------------------------------------------------\n",
            "Fold 5, Root Mean Squared Logarithmic Error on Validation Set: 0.15331953200554752\n",
            "----------------------------------------------------------------------\n",
            "Fold 6, Root Mean Squared Logarithmic Error on Validation Set: 0.15198692731935162\n",
            "----------------------------------------------------------------------\n",
            "Fold 7, Root Mean Squared Logarithmic Error on Validation Set: 0.149655819053079\n",
            "----------------------------------------------------------------------\n",
            "Fold 8, Root Mean Squared Logarithmic Error on Validation Set: 0.1539993927140127\n",
            "----------------------------------------------------------------------\n",
            "Fold 9, Root Mean Squared Logarithmic Error on Validation Set: 0.15089222264297164\n",
            "----------------------------------------------------------------------\n",
            "Fold 10, Root Mean Squared Logarithmic Error on Validation Set: 0.14859692470380778\n",
            "----------------------------------------------------------------------\n",
            "\n",
            "Average Root Mean Squared Logarithmic Error across 10 folds: 0.1523869029151309\n"
          ]
        }
      ]
    },
    {
      "cell_type": "markdown",
      "source": [
        "HIST GRADIENT BOOSTING"
      ],
      "metadata": {
        "id": "1BiafZSzOSVQ"
      }
    },
    {
      "cell_type": "code",
      "source": [
        "best_params_hgb ={'max_iter': 720,\n",
        "                  'max_depth': 10,\n",
        "                  'learning_rate': 0.06454729355575252,\n",
        "                  'min_samples_leaf': 14}"
      ],
      "metadata": {
        "id": "7g72BNfSORgF"
      },
      "execution_count": null,
      "outputs": []
    },
    {
      "cell_type": "code",
      "source": [
        "cv_results_hgb, hgbmodel, y_val_pred_hgb, y_test_pred_hgb = train_model(model_type='histgradientboosting', n_splits=10, X=X, y=y, use_gpu=False, model_params = best_params_hgb)"
      ],
      "metadata": {
        "colab": {
          "base_uri": "https://localhost:8080/"
        },
        "id": "0T_zqQzbOReG",
        "outputId": "16702c7f-eea4-442c-ca92-d586a6c34fa2"
      },
      "execution_count": null,
      "outputs": [
        {
          "output_type": "stream",
          "name": "stdout",
          "text": [
            "Fold 1, Root Mean Squared Logarithmic Error on Validation Set: 0.15044881912396812\n",
            "----------------------------------------------------------------------\n",
            "Fold 2, Root Mean Squared Logarithmic Error on Validation Set: 0.15448539281802626\n",
            "----------------------------------------------------------------------\n",
            "Fold 3, Root Mean Squared Logarithmic Error on Validation Set: 0.14922556477893117\n",
            "----------------------------------------------------------------------\n",
            "Fold 4, Root Mean Squared Logarithmic Error on Validation Set: 0.15433188287466718\n",
            "----------------------------------------------------------------------\n",
            "Fold 5, Root Mean Squared Logarithmic Error on Validation Set: 0.15105690460629617\n",
            "----------------------------------------------------------------------\n",
            "Fold 6, Root Mean Squared Logarithmic Error on Validation Set: 0.14941532194994855\n",
            "----------------------------------------------------------------------\n",
            "Fold 7, Root Mean Squared Logarithmic Error on Validation Set: 0.1473417661101913\n",
            "----------------------------------------------------------------------\n",
            "Fold 8, Root Mean Squared Logarithmic Error on Validation Set: 0.15197714828226402\n",
            "----------------------------------------------------------------------\n",
            "Fold 9, Root Mean Squared Logarithmic Error on Validation Set: 0.14865700332664636\n",
            "----------------------------------------------------------------------\n",
            "Fold 10, Root Mean Squared Logarithmic Error on Validation Set: 0.14723960727343727\n",
            "----------------------------------------------------------------------\n",
            "\n",
            "Average Root Mean Squared Logarithmic Error across 10 folds: 0.15041794111443763\n"
          ]
        }
      ]
    },
    {
      "cell_type": "markdown",
      "source": [
        "Now applying optuna weights"
      ],
      "metadata": {
        "id": "dSaxbNpzNsDX"
      }
    },
    {
      "cell_type": "code",
      "source": [
        "from functools import partial\n",
        "\n",
        "class OptunaWeights:\n",
        "    def __init__(self, random_state, n_trials=5000):\n",
        "        # Optuna study object which will hold the optimization results.\n",
        "        self.study = None\n",
        "        # Optimal weights for the predictions determined by Optuna.\n",
        "        self.weights = None\n",
        "        # Random state for reproducibility. This is used for the CMA-ES sampler.\n",
        "        self.random_state = random_state\n",
        "        # Number of trials for hyperparameter optimization. This is the number of different sets of weights that Optuna will try.\n",
        "        self.n_trials = n_trials\n",
        "\n",
        "    def _objective(self, trial, y_true, y_preds):\n",
        "        # Defining the weights for the predictions from each model.\n",
        "        # Optuna will suggest different weights to try in each trial.\n",
        "        weights = [trial.suggest_float(f\"weight{n}\", 0, 1) for n in range(len(y_preds) - 1)]\n",
        "        # The last weight is determined so that the sum of all weights is 1.\n",
        "        weights.append(1 - sum(weights))\n",
        "\n",
        "        # Calculating the weighted prediction. This is the average of the predictions from each model,\n",
        "        # with each prediction being weighted by the weights determined by Optuna.\n",
        "        weighted_pred = np.average(np.array(y_preds), axis=0, weights=weights)\n",
        "\n",
        "        y_true, weighted_pred = np.abs(y_true), np.abs(weighted_pred)\n",
        "        # Calculating the root mean squared logarithmic error (RMSLE) of the weighted prediction.\n",
        "        # This is the metric that Optuna is trying to minimize for our task\n",
        "        rmsle = np.sqrt(mean_squared_log_error(y_true, weighted_pred))\n",
        "\n",
        "        return rmsle\n",
        "\n",
        "    def fit(self, y_true, y_preds):\n",
        "        # Setting Optuna logging verbosity to ERROR to avoid cluttering the output with logs.\n",
        "        optuna.logging.set_verbosity(optuna.logging.ERROR)\n",
        "\n",
        "        # Creating a CMA-ES sampler for hyperparameter optimization.\n",
        "        # This is a type of sampler that uses the Covariance Matrix Adaptation Evolution Strategy,\n",
        "        # which is good for optimizing continuous variables, like our weights.\n",
        "        sampler = optuna.samplers.CmaEsSampler(seed=self.random_state)\n",
        "\n",
        "        # Creating a Hyperband pruner for early stopping.\n",
        "        # This will stop trials early if they are not promising, which can save time.\n",
        "        pruner = optuna.pruners.HyperbandPruner()\n",
        "\n",
        "        # Creating an Optuna study with the specified sampler, pruner, and objective direction.\n",
        "        # The objective direction is 'minimize' because we want to minimize the RMSLE.\n",
        "        self.study = optuna.create_study(sampler=sampler, pruner=pruner, study_name=\"OptunaWeights\",\n",
        "                                         direction='minimize')\n",
        "\n",
        "        # Creating a partial function for the objective with y_true and y_preds as fixed arguments.\n",
        "        # This is necessary because Optuna's optimize method only accepts a function with one argument, the trial.\n",
        "        objective_partial = partial(self._objective, y_true=y_true, y_preds=y_preds)\n",
        "\n",
        "        # Optimizing the study with the specified number of trials.\n",
        "        # The progress bar will show the progress of the optimization.\n",
        "        self.study.optimize(objective_partial, n_trials=self.n_trials, show_progress_bar=True)\n",
        "\n",
        "        # Extracting the best weights from the study's best parameters.\n",
        "        # These are the weights that gave the lowest RMSLE in the trials.\n",
        "        weights = [self.study.best_params[f\"weight{n}\"] for n in range(len(y_preds) - 1)]\n",
        "        # The last weight is determined so that the sum of all weights is 1.\n",
        "        weights.append(1 - sum(weights))\n",
        "\n",
        "        # Store the optimal weights in the weights attribute.\n",
        "        self.weights = weights\n",
        "\n",
        "\n",
        "# Creating an instance of OptunaWeights with random state 42.\n",
        "# This instance can be used to find the optimal weights for combining the predictions from different models.\n",
        "ow = OptunaWeights(1)"
      ],
      "metadata": {
        "id": "-CZuuouUKSuI"
      },
      "execution_count": null,
      "outputs": []
    },
    {
      "cell_type": "code",
      "source": [
        "!pip install cmaes -q"
      ],
      "metadata": {
        "id": "DUh-IVjZKSsV"
      },
      "execution_count": null,
      "outputs": []
    },
    {
      "cell_type": "code",
      "source": [
        "# Fitting the OptunaWeights object with the true target values and out-of-fold predictions from multiple models\n",
        "ow.fit(train_df['Rings'], y_preds=[y_val_pred_xgb, y_val_pred_cb,y_val_pred_rf,y_val_pred_nn,y_val_pred_xgbrmsle ])"
      ],
      "metadata": {
        "colab": {
          "base_uri": "https://localhost:8080/",
          "height": 49,
          "referenced_widgets": [
            "d7e2733a4d6a431b9408d18ac96cd75e",
            "037723811f75404ab4e3b98d1789c2a8",
            "4e830dbf1eea4594bec6940c9d6d96be",
            "9aec606c5abc41a0ba8d81fe55ee3f43",
            "66bba03da182456f8e6cde9ee8f9e7bb",
            "7ebe275cc8cc4e57b833128765f32530",
            "7c4f33b94df946359ed75fa49a18f5c8",
            "9011179db7da4262b3b376da700b2597",
            "f23e42e86ac84bc1aa70b08351a71f64",
            "802f0766377e4f7aac0aef99b427bf87",
            "365bbe96f6494e689f00002dbc9c1d54"
          ]
        },
        "id": "7m9s-g7GKSp-",
        "outputId": "c49c58b2-e7ff-4974-8a29-e730aed044d1"
      },
      "execution_count": null,
      "outputs": [
        {
          "output_type": "display_data",
          "data": {
            "text/plain": [
              "  0%|          | 0/5000 [00:00<?, ?it/s]"
            ],
            "application/vnd.jupyter.widget-view+json": {
              "version_major": 2,
              "version_minor": 0,
              "model_id": "d7e2733a4d6a431b9408d18ac96cd75e"
            }
          },
          "metadata": {}
        }
      ]
    },
    {
      "cell_type": "code",
      "source": [
        "# Getting the optimal weights\n",
        "weights = ow.weights\n",
        "lst_optuna_weights = np.asarray(weights)\n",
        "sum_lst_optuna_weights = np.sum(lst_optuna_weights)\n",
        "print(sum_lst_optuna_weights)\n",
        "lst_optuna_weights, sum(lst_optuna_weights)"
      ],
      "metadata": {
        "colab": {
          "base_uri": "https://localhost:8080/"
        },
        "id": "xK83W7HlKNXH",
        "outputId": "9b06ce3f-2c06-4721-8f82-012907a9ccce"
      },
      "execution_count": null,
      "outputs": [
        {
          "output_type": "stream",
          "name": "stdout",
          "text": [
            "1.0\n"
          ]
        },
        {
          "output_type": "execute_result",
          "data": {
            "text/plain": [
              "(array([0.15100683, 0.55096443, 0.03348257, 0.03249783, 0.23204834]), 1.0)"
            ]
          },
          "metadata": {},
          "execution_count": 152
        }
      ]
    },
    {
      "cell_type": "code",
      "source": [
        "sorted_weights = sorted(list(lst_optuna_weights))\n",
        "sorted_weights"
      ],
      "metadata": {
        "colab": {
          "base_uri": "https://localhost:8080/"
        },
        "id": "7y_JaxFmN0Me",
        "outputId": "4bf637ec-e7fa-474d-f7b7-fc85c3b43491"
      },
      "execution_count": null,
      "outputs": [
        {
          "output_type": "execute_result",
          "data": {
            "text/plain": [
              "[0.032497833534150096,\n",
              " 0.03348256638068388,\n",
              " 0.15100683490564482,\n",
              " 0.2320483379522802,\n",
              " 0.5509644272272409]"
            ]
          },
          "metadata": {},
          "execution_count": 153
        }
      ]
    },
    {
      "cell_type": "code",
      "source": [
        "# Fitting the OptunaWeights object with the true target values and out-of-fold predictions from multiple models\n",
        "ow.fit(train_df['Rings'], y_preds=[y_val_pred_xgb,y_val_pred_xgbrmsle])"
      ],
      "metadata": {
        "colab": {
          "base_uri": "https://localhost:8080/",
          "height": 49,
          "referenced_widgets": [
            "504b501566ab40b391a1e23a275869aa",
            "2ed5b8115bd54fecb169da30339a1a99",
            "b8be63e0eae3402b80dcb5bef7c77723",
            "9f8280ce8e8246fe8a73521e2e717847",
            "a0cc580a66ae4aca8f8141c3f5297283",
            "07ca789383434ed08bc8d1ec23ab6261",
            "2d93b821761543b780f117920f6f8964",
            "00ea650e716f4a49a7334870ac1d8469",
            "ac2218be3796408e981ad5622ab9cd4f",
            "c96fa6bc2833424fbe5b5a840fe7c74b",
            "f29712fb69be4016842d32884b731a67"
          ]
        },
        "id": "qugpoijMN0J1",
        "outputId": "8ebb6793-f013-44b6-d8b4-27c3e64f8d8a"
      },
      "execution_count": null,
      "outputs": [
        {
          "output_type": "display_data",
          "data": {
            "text/plain": [
              "  0%|          | 0/5000 [00:00<?, ?it/s]"
            ],
            "application/vnd.jupyter.widget-view+json": {
              "version_major": 2,
              "version_minor": 0,
              "model_id": "504b501566ab40b391a1e23a275869aa"
            }
          },
          "metadata": {}
        }
      ]
    },
    {
      "cell_type": "code",
      "source": [
        "weights = ow.weights\n",
        "lst_optuna_weights = np.asarray(weights)\n",
        "sum_lst_optuna_weights = np.sum(lst_optuna_weights)\n",
        "print(sum_lst_optuna_weights)\n",
        "lst_optuna_weights, sum(lst_optuna_weights)\n"
      ],
      "metadata": {
        "colab": {
          "base_uri": "https://localhost:8080/"
        },
        "id": "S5NZpY6FN0HT",
        "outputId": "b55fcf22-8e2b-4576-8b52-2ec49355b515"
      },
      "execution_count": null,
      "outputs": [
        {
          "output_type": "stream",
          "name": "stdout",
          "text": [
            "1.0\n"
          ]
        },
        {
          "output_type": "execute_result",
          "data": {
            "text/plain": [
              "(array([0.74852032, 0.25147968]), 1.0)"
            ]
          },
          "metadata": {},
          "execution_count": 155
        }
      ]
    },
    {
      "cell_type": "markdown",
      "source": [
        "Using optimized weights to average the prediction"
      ],
      "metadata": {
        "id": "AdXyYpxpPiVB"
      }
    },
    {
      "cell_type": "code",
      "source": [
        "predictions_1 = np.mean(y_test_pred_xgb, axis=0)\n",
        "predictions_2 = np.mean(y_test_pred_cb, axis=0)\n",
        "predictions_3 = np.mean(y_test_pred_rf, axis=0)\n",
        "predictions_4 = np.mean(y_test_pred_hgb, axis=0)\n",
        "predictions_5 = np.mean(y_test_pred_nn, axis=0)\n",
        "# predictions_6 = np.mean(y_test_pred_xgbrmsle, axis=0)"
      ],
      "metadata": {
        "id": "AI3amNVxPe5p"
      },
      "execution_count": null,
      "outputs": []
    },
    {
      "cell_type": "code",
      "source": [
        "predictions_1 = ((lst_optuna_weights[0]) * predictions_1 +\n",
        "        (lst_optuna_weights[1]) * predictions_2 +\n",
        "        (lst_optuna_weights[2]) * predictions_3\n",
        "                 )"
      ],
      "metadata": {
        "colab": {
          "base_uri": "https://localhost:8080/",
          "height": 233
        },
        "id": "N_Spnp_3P6ml",
        "outputId": "68f3dee1-b86d-4d59-a153-1c698f21269b"
      },
      "execution_count": null,
      "outputs": [
        {
          "output_type": "error",
          "ename": "IndexError",
          "evalue": "index 2 is out of bounds for axis 0 with size 2",
          "traceback": [
            "\u001b[0;31m---------------------------------------------------------------------------\u001b[0m",
            "\u001b[0;31mIndexError\u001b[0m                                Traceback (most recent call last)",
            "\u001b[0;32m<ipython-input-157-8af3dddabe33>\u001b[0m in \u001b[0;36m<cell line: 1>\u001b[0;34m()\u001b[0m\n\u001b[1;32m      1\u001b[0m predictions_1 = ((lst_optuna_weights[0]) * predictions_1 +\n\u001b[1;32m      2\u001b[0m         \u001b[0;34m(\u001b[0m\u001b[0mlst_optuna_weights\u001b[0m\u001b[0;34m[\u001b[0m\u001b[0;36m1\u001b[0m\u001b[0;34m]\u001b[0m\u001b[0;34m)\u001b[0m \u001b[0;34m*\u001b[0m \u001b[0mpredictions_2\u001b[0m \u001b[0;34m+\u001b[0m\u001b[0;34m\u001b[0m\u001b[0;34m\u001b[0m\u001b[0m\n\u001b[0;32m----> 3\u001b[0;31m         \u001b[0;34m(\u001b[0m\u001b[0mlst_optuna_weights\u001b[0m\u001b[0;34m[\u001b[0m\u001b[0;36m2\u001b[0m\u001b[0;34m]\u001b[0m\u001b[0;34m)\u001b[0m \u001b[0;34m*\u001b[0m \u001b[0mpredictions_3\u001b[0m\u001b[0;34m\u001b[0m\u001b[0;34m\u001b[0m\u001b[0m\n\u001b[0m\u001b[1;32m      4\u001b[0m                  )\n",
            "\u001b[0;31mIndexError\u001b[0m: index 2 is out of bounds for axis 0 with size 2"
          ]
        }
      ]
    },
    {
      "cell_type": "code",
      "source": [
        "ow_3 = OptunaWeights(42)\n",
        "ow_3.fit(train_df['Rings'], y_preds=[y_val_pred_rf, y_val_pred_hgb,y_val_pred_nn])\n",
        "\n",
        "weights = ow_3.weights\n",
        "lst_optuna_weights = np.asarray(weights)\n",
        "sum_lst_optuna_weights = np.sum(lst_optuna_weights)"
      ],
      "metadata": {
        "colab": {
          "base_uri": "https://localhost:8080/",
          "height": 49,
          "referenced_widgets": [
            "52cfe0b536f74a1d92ceaf7449238201",
            "283c072e5bc1428e942c9c7d23377ebc",
            "117a43dc28524498813b956e2f7a53b9",
            "2921275ffbe54b54a9f787cbdeea41f8",
            "6bb73a7e007748ac90e0278be5c24a7b",
            "942bbb08b7644a9997fc4bdf8fd2055a",
            "000ae78239e84b189994bb76ab4a8ea6",
            "9b06def648b14102ba9ca8513f60bbc3",
            "0900c0cc828545afb27d169c9fa163c4",
            "0e566bcbecd54cf7903fbb90ed7677c1",
            "10a89edd089f480dade1a2511b249609"
          ]
        },
        "id": "9HFRahOAP_2A",
        "outputId": "b8cbfbc6-6a33-49b3-a105-fd3ddb62b116"
      },
      "execution_count": null,
      "outputs": [
        {
          "output_type": "display_data",
          "data": {
            "text/plain": [
              "  0%|          | 0/5000 [00:00<?, ?it/s]"
            ],
            "application/vnd.jupyter.widget-view+json": {
              "version_major": 2,
              "version_minor": 0,
              "model_id": "52cfe0b536f74a1d92ceaf7449238201"
            }
          },
          "metadata": {}
        }
      ]
    },
    {
      "cell_type": "code",
      "source": [
        "lst_optuna_weights"
      ],
      "metadata": {
        "colab": {
          "base_uri": "https://localhost:8080/"
        },
        "id": "x-bev6q_QTW7",
        "outputId": "89a6893b-5934-4b9a-e946-c40e5076be2c"
      },
      "execution_count": null,
      "outputs": [
        {
          "output_type": "execute_result",
          "data": {
            "text/plain": [
              "array([0.3279636 , 0.57673797, 0.09529843])"
            ]
          },
          "metadata": {},
          "execution_count": 159
        }
      ]
    },
    {
      "cell_type": "code",
      "source": [
        "predictions_3 =      ((lst_optuna_weights[0]) * predictions_3+\n",
        "               (lst_optuna_weights[1]) * predictions_4+\n",
        "               (lst_optuna_weights[2]) * predictions_5  )"
      ],
      "metadata": {
        "id": "X-mrgxqnQjxe"
      },
      "execution_count": null,
      "outputs": []
    },
    {
      "cell_type": "code",
      "source": [
        "predictions_3"
      ],
      "metadata": {
        "colab": {
          "base_uri": "https://localhost:8080/"
        },
        "id": "0kfql6oVQrvG",
        "outputId": "1dbdd012-2ca0-4e28-954a-95c62d897fe9"
      },
      "execution_count": null,
      "outputs": [
        {
          "output_type": "execute_result",
          "data": {
            "text/plain": [
              "array([ 9.86464229,  9.66938267, 10.08108997, ..., 12.40344676,\n",
              "       13.00467386,  8.74953755])"
            ]
          },
          "metadata": {},
          "execution_count": 163
        }
      ]
    },
    {
      "cell_type": "markdown",
      "source": [
        "VOTING REGRESSOR"
      ],
      "metadata": {
        "id": "MF0rWcdEQvR6"
      }
    },
    {
      "cell_type": "code",
      "source": [
        "from sklearn.ensemble import VotingRegressor"
      ],
      "metadata": {
        "id": "Xc0L2WXJQtY3"
      },
      "execution_count": null,
      "outputs": []
    },
    {
      "cell_type": "code",
      "source": [
        "test_df_1.shape"
      ],
      "metadata": {
        "colab": {
          "base_uri": "https://localhost:8080/"
        },
        "id": "8PuCBNKCVBkX",
        "outputId": "0c98148a-106c-4b0c-8552-e75f2d22dc10"
      },
      "execution_count": null,
      "outputs": [
        {
          "output_type": "execute_result",
          "data": {
            "text/plain": [
              "(60411, 12)"
            ]
          },
          "metadata": {},
          "execution_count": 103
        }
      ]
    },
    {
      "cell_type": "code",
      "source": [
        "voting = VotingRegressor([('xgb', xgb_model), ('hgb', hgbmodel), ('rmsle', xgbrmslemodel)], weights=list(lst_optuna_weights))\n",
        "\n",
        "voting.fit(train_df_1, y)\n",
        "predictions_2 = voting.predict(test_df_1)"
      ],
      "metadata": {
        "id": "PrsHE5vRQw7m"
      },
      "execution_count": null,
      "outputs": []
    },
    {
      "cell_type": "code",
      "source": [
        "predictions_2"
      ],
      "metadata": {
        "colab": {
          "base_uri": "https://localhost:8080/"
        },
        "id": "XE1z-fG_Qyem",
        "outputId": "e84a289e-2a5b-44d4-fc71-3fc1c3b426a8"
      },
      "execution_count": null,
      "outputs": [
        {
          "output_type": "execute_result",
          "data": {
            "text/plain": [
              "array([ 9.69437118,  9.58302179, 10.13693052, ..., 12.23437374,\n",
              "       13.28801781,  8.69648518])"
            ]
          },
          "metadata": {},
          "execution_count": 166
        }
      ]
    },
    {
      "cell_type": "code",
      "source": [
        "predictions_3.shape"
      ],
      "metadata": {
        "colab": {
          "base_uri": "https://localhost:8080/"
        },
        "id": "0m_FA22kVwiK",
        "outputId": "0ac5212d-f8f9-42fb-d712-7d7888bc295c"
      },
      "execution_count": null,
      "outputs": [
        {
          "output_type": "execute_result",
          "data": {
            "text/plain": [
              "(60411,)"
            ]
          },
          "metadata": {},
          "execution_count": 162
        }
      ]
    },
    {
      "cell_type": "code",
      "source": [
        "predictions = (predictions_1 + predictions_2 + predictions_3)/3\n",
        "predictions"
      ],
      "metadata": {
        "colab": {
          "base_uri": "https://localhost:8080/"
        },
        "id": "QYZOCjZDRiF4",
        "outputId": "6a7edb2d-626d-475f-820c-7038880d59e8"
      },
      "execution_count": null,
      "outputs": [
        {
          "output_type": "execute_result",
          "data": {
            "text/plain": [
              "array([ 9.83082616,  9.56882199, 10.09203149, ..., 12.21043849,\n",
              "       13.18202478,  8.77045496])"
            ]
          },
          "metadata": {},
          "execution_count": 167
        }
      ]
    },
    {
      "cell_type": "code",
      "source": [
        "y_pred = pd.DataFrame(predictions)\n",
        "y_pred.columns = ['Rings']\n",
        "y_pred.head()"
      ],
      "metadata": {
        "colab": {
          "base_uri": "https://localhost:8080/",
          "height": 206
        },
        "id": "9iCMO1XXRkKk",
        "outputId": "78917d05-3f94-4993-831f-1b61263474f8"
      },
      "execution_count": null,
      "outputs": [
        {
          "output_type": "execute_result",
          "data": {
            "text/plain": [
              "       Rings\n",
              "0   9.830826\n",
              "1   9.568822\n",
              "2  10.092031\n",
              "3  10.279740\n",
              "4   7.505324"
            ],
            "text/html": [
              "\n",
              "  <div id=\"df-4af0227f-f964-47de-bf37-5b152978ef71\" class=\"colab-df-container\">\n",
              "    <div>\n",
              "<style scoped>\n",
              "    .dataframe tbody tr th:only-of-type {\n",
              "        vertical-align: middle;\n",
              "    }\n",
              "\n",
              "    .dataframe tbody tr th {\n",
              "        vertical-align: top;\n",
              "    }\n",
              "\n",
              "    .dataframe thead th {\n",
              "        text-align: right;\n",
              "    }\n",
              "</style>\n",
              "<table border=\"1\" class=\"dataframe\">\n",
              "  <thead>\n",
              "    <tr style=\"text-align: right;\">\n",
              "      <th></th>\n",
              "      <th>Rings</th>\n",
              "    </tr>\n",
              "  </thead>\n",
              "  <tbody>\n",
              "    <tr>\n",
              "      <th>0</th>\n",
              "      <td>9.830826</td>\n",
              "    </tr>\n",
              "    <tr>\n",
              "      <th>1</th>\n",
              "      <td>9.568822</td>\n",
              "    </tr>\n",
              "    <tr>\n",
              "      <th>2</th>\n",
              "      <td>10.092031</td>\n",
              "    </tr>\n",
              "    <tr>\n",
              "      <th>3</th>\n",
              "      <td>10.279740</td>\n",
              "    </tr>\n",
              "    <tr>\n",
              "      <th>4</th>\n",
              "      <td>7.505324</td>\n",
              "    </tr>\n",
              "  </tbody>\n",
              "</table>\n",
              "</div>\n",
              "    <div class=\"colab-df-buttons\">\n",
              "\n",
              "  <div class=\"colab-df-container\">\n",
              "    <button class=\"colab-df-convert\" onclick=\"convertToInteractive('df-4af0227f-f964-47de-bf37-5b152978ef71')\"\n",
              "            title=\"Convert this dataframe to an interactive table.\"\n",
              "            style=\"display:none;\">\n",
              "\n",
              "  <svg xmlns=\"http://www.w3.org/2000/svg\" height=\"24px\" viewBox=\"0 -960 960 960\">\n",
              "    <path d=\"M120-120v-720h720v720H120Zm60-500h600v-160H180v160Zm220 220h160v-160H400v160Zm0 220h160v-160H400v160ZM180-400h160v-160H180v160Zm440 0h160v-160H620v160ZM180-180h160v-160H180v160Zm440 0h160v-160H620v160Z\"/>\n",
              "  </svg>\n",
              "    </button>\n",
              "\n",
              "  <style>\n",
              "    .colab-df-container {\n",
              "      display:flex;\n",
              "      gap: 12px;\n",
              "    }\n",
              "\n",
              "    .colab-df-convert {\n",
              "      background-color: #E8F0FE;\n",
              "      border: none;\n",
              "      border-radius: 50%;\n",
              "      cursor: pointer;\n",
              "      display: none;\n",
              "      fill: #1967D2;\n",
              "      height: 32px;\n",
              "      padding: 0 0 0 0;\n",
              "      width: 32px;\n",
              "    }\n",
              "\n",
              "    .colab-df-convert:hover {\n",
              "      background-color: #E2EBFA;\n",
              "      box-shadow: 0px 1px 2px rgba(60, 64, 67, 0.3), 0px 1px 3px 1px rgba(60, 64, 67, 0.15);\n",
              "      fill: #174EA6;\n",
              "    }\n",
              "\n",
              "    .colab-df-buttons div {\n",
              "      margin-bottom: 4px;\n",
              "    }\n",
              "\n",
              "    [theme=dark] .colab-df-convert {\n",
              "      background-color: #3B4455;\n",
              "      fill: #D2E3FC;\n",
              "    }\n",
              "\n",
              "    [theme=dark] .colab-df-convert:hover {\n",
              "      background-color: #434B5C;\n",
              "      box-shadow: 0px 1px 3px 1px rgba(0, 0, 0, 0.15);\n",
              "      filter: drop-shadow(0px 1px 2px rgba(0, 0, 0, 0.3));\n",
              "      fill: #FFFFFF;\n",
              "    }\n",
              "  </style>\n",
              "\n",
              "    <script>\n",
              "      const buttonEl =\n",
              "        document.querySelector('#df-4af0227f-f964-47de-bf37-5b152978ef71 button.colab-df-convert');\n",
              "      buttonEl.style.display =\n",
              "        google.colab.kernel.accessAllowed ? 'block' : 'none';\n",
              "\n",
              "      async function convertToInteractive(key) {\n",
              "        const element = document.querySelector('#df-4af0227f-f964-47de-bf37-5b152978ef71');\n",
              "        const dataTable =\n",
              "          await google.colab.kernel.invokeFunction('convertToInteractive',\n",
              "                                                    [key], {});\n",
              "        if (!dataTable) return;\n",
              "\n",
              "        const docLinkHtml = 'Like what you see? Visit the ' +\n",
              "          '<a target=\"_blank\" href=https://colab.research.google.com/notebooks/data_table.ipynb>data table notebook</a>'\n",
              "          + ' to learn more about interactive tables.';\n",
              "        element.innerHTML = '';\n",
              "        dataTable['output_type'] = 'display_data';\n",
              "        await google.colab.output.renderOutput(dataTable, element);\n",
              "        const docLink = document.createElement('div');\n",
              "        docLink.innerHTML = docLinkHtml;\n",
              "        element.appendChild(docLink);\n",
              "      }\n",
              "    </script>\n",
              "  </div>\n",
              "\n",
              "\n",
              "<div id=\"df-ac20fe05-25c0-45d0-aaf1-edc86ec4af02\">\n",
              "  <button class=\"colab-df-quickchart\" onclick=\"quickchart('df-ac20fe05-25c0-45d0-aaf1-edc86ec4af02')\"\n",
              "            title=\"Suggest charts\"\n",
              "            style=\"display:none;\">\n",
              "\n",
              "<svg xmlns=\"http://www.w3.org/2000/svg\" height=\"24px\"viewBox=\"0 0 24 24\"\n",
              "     width=\"24px\">\n",
              "    <g>\n",
              "        <path d=\"M19 3H5c-1.1 0-2 .9-2 2v14c0 1.1.9 2 2 2h14c1.1 0 2-.9 2-2V5c0-1.1-.9-2-2-2zM9 17H7v-7h2v7zm4 0h-2V7h2v10zm4 0h-2v-4h2v4z\"/>\n",
              "    </g>\n",
              "</svg>\n",
              "  </button>\n",
              "\n",
              "<style>\n",
              "  .colab-df-quickchart {\n",
              "      --bg-color: #E8F0FE;\n",
              "      --fill-color: #1967D2;\n",
              "      --hover-bg-color: #E2EBFA;\n",
              "      --hover-fill-color: #174EA6;\n",
              "      --disabled-fill-color: #AAA;\n",
              "      --disabled-bg-color: #DDD;\n",
              "  }\n",
              "\n",
              "  [theme=dark] .colab-df-quickchart {\n",
              "      --bg-color: #3B4455;\n",
              "      --fill-color: #D2E3FC;\n",
              "      --hover-bg-color: #434B5C;\n",
              "      --hover-fill-color: #FFFFFF;\n",
              "      --disabled-bg-color: #3B4455;\n",
              "      --disabled-fill-color: #666;\n",
              "  }\n",
              "\n",
              "  .colab-df-quickchart {\n",
              "    background-color: var(--bg-color);\n",
              "    border: none;\n",
              "    border-radius: 50%;\n",
              "    cursor: pointer;\n",
              "    display: none;\n",
              "    fill: var(--fill-color);\n",
              "    height: 32px;\n",
              "    padding: 0;\n",
              "    width: 32px;\n",
              "  }\n",
              "\n",
              "  .colab-df-quickchart:hover {\n",
              "    background-color: var(--hover-bg-color);\n",
              "    box-shadow: 0 1px 2px rgba(60, 64, 67, 0.3), 0 1px 3px 1px rgba(60, 64, 67, 0.15);\n",
              "    fill: var(--button-hover-fill-color);\n",
              "  }\n",
              "\n",
              "  .colab-df-quickchart-complete:disabled,\n",
              "  .colab-df-quickchart-complete:disabled:hover {\n",
              "    background-color: var(--disabled-bg-color);\n",
              "    fill: var(--disabled-fill-color);\n",
              "    box-shadow: none;\n",
              "  }\n",
              "\n",
              "  .colab-df-spinner {\n",
              "    border: 2px solid var(--fill-color);\n",
              "    border-color: transparent;\n",
              "    border-bottom-color: var(--fill-color);\n",
              "    animation:\n",
              "      spin 1s steps(1) infinite;\n",
              "  }\n",
              "\n",
              "  @keyframes spin {\n",
              "    0% {\n",
              "      border-color: transparent;\n",
              "      border-bottom-color: var(--fill-color);\n",
              "      border-left-color: var(--fill-color);\n",
              "    }\n",
              "    20% {\n",
              "      border-color: transparent;\n",
              "      border-left-color: var(--fill-color);\n",
              "      border-top-color: var(--fill-color);\n",
              "    }\n",
              "    30% {\n",
              "      border-color: transparent;\n",
              "      border-left-color: var(--fill-color);\n",
              "      border-top-color: var(--fill-color);\n",
              "      border-right-color: var(--fill-color);\n",
              "    }\n",
              "    40% {\n",
              "      border-color: transparent;\n",
              "      border-right-color: var(--fill-color);\n",
              "      border-top-color: var(--fill-color);\n",
              "    }\n",
              "    60% {\n",
              "      border-color: transparent;\n",
              "      border-right-color: var(--fill-color);\n",
              "    }\n",
              "    80% {\n",
              "      border-color: transparent;\n",
              "      border-right-color: var(--fill-color);\n",
              "      border-bottom-color: var(--fill-color);\n",
              "    }\n",
              "    90% {\n",
              "      border-color: transparent;\n",
              "      border-bottom-color: var(--fill-color);\n",
              "    }\n",
              "  }\n",
              "</style>\n",
              "\n",
              "  <script>\n",
              "    async function quickchart(key) {\n",
              "      const quickchartButtonEl =\n",
              "        document.querySelector('#' + key + ' button');\n",
              "      quickchartButtonEl.disabled = true;  // To prevent multiple clicks.\n",
              "      quickchartButtonEl.classList.add('colab-df-spinner');\n",
              "      try {\n",
              "        const charts = await google.colab.kernel.invokeFunction(\n",
              "            'suggestCharts', [key], {});\n",
              "      } catch (error) {\n",
              "        console.error('Error during call to suggestCharts:', error);\n",
              "      }\n",
              "      quickchartButtonEl.classList.remove('colab-df-spinner');\n",
              "      quickchartButtonEl.classList.add('colab-df-quickchart-complete');\n",
              "    }\n",
              "    (() => {\n",
              "      let quickchartButtonEl =\n",
              "        document.querySelector('#df-ac20fe05-25c0-45d0-aaf1-edc86ec4af02 button');\n",
              "      quickchartButtonEl.style.display =\n",
              "        google.colab.kernel.accessAllowed ? 'block' : 'none';\n",
              "    })();\n",
              "  </script>\n",
              "</div>\n",
              "\n",
              "    </div>\n",
              "  </div>\n"
            ],
            "application/vnd.google.colaboratory.intrinsic+json": {
              "type": "dataframe",
              "variable_name": "y_pred",
              "summary": "{\n  \"name\": \"y_pred\",\n  \"rows\": 60411,\n  \"fields\": [\n    {\n      \"column\": \"Rings\",\n      \"properties\": {\n        \"dtype\": \"number\",\n        \"std\": 2.5552539338721494,\n        \"min\": 3.9845365360254448,\n        \"max\": 20.420650840784685,\n        \"num_unique_values\": 60411,\n        \"samples\": [\n          6.734057897128872,\n          8.689883150026185,\n          10.071181246909406\n        ],\n        \"semantic_type\": \"\",\n        \"description\": \"\"\n      }\n    }\n  ]\n}"
            }
          },
          "metadata": {},
          "execution_count": 168
        }
      ]
    },
    {
      "cell_type": "code",
      "source": [
        "ids = test_df['id']"
      ],
      "metadata": {
        "id": "MA9pjc_rRmGe"
      },
      "execution_count": null,
      "outputs": []
    },
    {
      "cell_type": "code",
      "source": [
        "submission_df = pd.DataFrame()\n",
        "submission_df = y_pred\n",
        "submission_df['id'] = ids\n",
        "submission_df['id'] = submission_df['id'].apply(lambda x : int(x))\n",
        "submission_df.head()"
      ],
      "metadata": {
        "colab": {
          "base_uri": "https://localhost:8080/",
          "height": 206
        },
        "id": "dzwAlr_ZRpA7",
        "outputId": "e223f9d4-fd42-459e-8231-adf7d4a31086"
      },
      "execution_count": null,
      "outputs": [
        {
          "output_type": "execute_result",
          "data": {
            "text/plain": [
              "       Rings     id\n",
              "0   9.830826  90615\n",
              "1   9.568822  90616\n",
              "2  10.092031  90617\n",
              "3  10.279740  90618\n",
              "4   7.505324  90619"
            ],
            "text/html": [
              "\n",
              "  <div id=\"df-03e2bf0f-84d3-4c0e-b03c-5e631d69cac0\" class=\"colab-df-container\">\n",
              "    <div>\n",
              "<style scoped>\n",
              "    .dataframe tbody tr th:only-of-type {\n",
              "        vertical-align: middle;\n",
              "    }\n",
              "\n",
              "    .dataframe tbody tr th {\n",
              "        vertical-align: top;\n",
              "    }\n",
              "\n",
              "    .dataframe thead th {\n",
              "        text-align: right;\n",
              "    }\n",
              "</style>\n",
              "<table border=\"1\" class=\"dataframe\">\n",
              "  <thead>\n",
              "    <tr style=\"text-align: right;\">\n",
              "      <th></th>\n",
              "      <th>Rings</th>\n",
              "      <th>id</th>\n",
              "    </tr>\n",
              "  </thead>\n",
              "  <tbody>\n",
              "    <tr>\n",
              "      <th>0</th>\n",
              "      <td>9.830826</td>\n",
              "      <td>90615</td>\n",
              "    </tr>\n",
              "    <tr>\n",
              "      <th>1</th>\n",
              "      <td>9.568822</td>\n",
              "      <td>90616</td>\n",
              "    </tr>\n",
              "    <tr>\n",
              "      <th>2</th>\n",
              "      <td>10.092031</td>\n",
              "      <td>90617</td>\n",
              "    </tr>\n",
              "    <tr>\n",
              "      <th>3</th>\n",
              "      <td>10.279740</td>\n",
              "      <td>90618</td>\n",
              "    </tr>\n",
              "    <tr>\n",
              "      <th>4</th>\n",
              "      <td>7.505324</td>\n",
              "      <td>90619</td>\n",
              "    </tr>\n",
              "  </tbody>\n",
              "</table>\n",
              "</div>\n",
              "    <div class=\"colab-df-buttons\">\n",
              "\n",
              "  <div class=\"colab-df-container\">\n",
              "    <button class=\"colab-df-convert\" onclick=\"convertToInteractive('df-03e2bf0f-84d3-4c0e-b03c-5e631d69cac0')\"\n",
              "            title=\"Convert this dataframe to an interactive table.\"\n",
              "            style=\"display:none;\">\n",
              "\n",
              "  <svg xmlns=\"http://www.w3.org/2000/svg\" height=\"24px\" viewBox=\"0 -960 960 960\">\n",
              "    <path d=\"M120-120v-720h720v720H120Zm60-500h600v-160H180v160Zm220 220h160v-160H400v160Zm0 220h160v-160H400v160ZM180-400h160v-160H180v160Zm440 0h160v-160H620v160ZM180-180h160v-160H180v160Zm440 0h160v-160H620v160Z\"/>\n",
              "  </svg>\n",
              "    </button>\n",
              "\n",
              "  <style>\n",
              "    .colab-df-container {\n",
              "      display:flex;\n",
              "      gap: 12px;\n",
              "    }\n",
              "\n",
              "    .colab-df-convert {\n",
              "      background-color: #E8F0FE;\n",
              "      border: none;\n",
              "      border-radius: 50%;\n",
              "      cursor: pointer;\n",
              "      display: none;\n",
              "      fill: #1967D2;\n",
              "      height: 32px;\n",
              "      padding: 0 0 0 0;\n",
              "      width: 32px;\n",
              "    }\n",
              "\n",
              "    .colab-df-convert:hover {\n",
              "      background-color: #E2EBFA;\n",
              "      box-shadow: 0px 1px 2px rgba(60, 64, 67, 0.3), 0px 1px 3px 1px rgba(60, 64, 67, 0.15);\n",
              "      fill: #174EA6;\n",
              "    }\n",
              "\n",
              "    .colab-df-buttons div {\n",
              "      margin-bottom: 4px;\n",
              "    }\n",
              "\n",
              "    [theme=dark] .colab-df-convert {\n",
              "      background-color: #3B4455;\n",
              "      fill: #D2E3FC;\n",
              "    }\n",
              "\n",
              "    [theme=dark] .colab-df-convert:hover {\n",
              "      background-color: #434B5C;\n",
              "      box-shadow: 0px 1px 3px 1px rgba(0, 0, 0, 0.15);\n",
              "      filter: drop-shadow(0px 1px 2px rgba(0, 0, 0, 0.3));\n",
              "      fill: #FFFFFF;\n",
              "    }\n",
              "  </style>\n",
              "\n",
              "    <script>\n",
              "      const buttonEl =\n",
              "        document.querySelector('#df-03e2bf0f-84d3-4c0e-b03c-5e631d69cac0 button.colab-df-convert');\n",
              "      buttonEl.style.display =\n",
              "        google.colab.kernel.accessAllowed ? 'block' : 'none';\n",
              "\n",
              "      async function convertToInteractive(key) {\n",
              "        const element = document.querySelector('#df-03e2bf0f-84d3-4c0e-b03c-5e631d69cac0');\n",
              "        const dataTable =\n",
              "          await google.colab.kernel.invokeFunction('convertToInteractive',\n",
              "                                                    [key], {});\n",
              "        if (!dataTable) return;\n",
              "\n",
              "        const docLinkHtml = 'Like what you see? Visit the ' +\n",
              "          '<a target=\"_blank\" href=https://colab.research.google.com/notebooks/data_table.ipynb>data table notebook</a>'\n",
              "          + ' to learn more about interactive tables.';\n",
              "        element.innerHTML = '';\n",
              "        dataTable['output_type'] = 'display_data';\n",
              "        await google.colab.output.renderOutput(dataTable, element);\n",
              "        const docLink = document.createElement('div');\n",
              "        docLink.innerHTML = docLinkHtml;\n",
              "        element.appendChild(docLink);\n",
              "      }\n",
              "    </script>\n",
              "  </div>\n",
              "\n",
              "\n",
              "<div id=\"df-59837ad7-4a5d-477d-93e0-9c2d110acbfe\">\n",
              "  <button class=\"colab-df-quickchart\" onclick=\"quickchart('df-59837ad7-4a5d-477d-93e0-9c2d110acbfe')\"\n",
              "            title=\"Suggest charts\"\n",
              "            style=\"display:none;\">\n",
              "\n",
              "<svg xmlns=\"http://www.w3.org/2000/svg\" height=\"24px\"viewBox=\"0 0 24 24\"\n",
              "     width=\"24px\">\n",
              "    <g>\n",
              "        <path d=\"M19 3H5c-1.1 0-2 .9-2 2v14c0 1.1.9 2 2 2h14c1.1 0 2-.9 2-2V5c0-1.1-.9-2-2-2zM9 17H7v-7h2v7zm4 0h-2V7h2v10zm4 0h-2v-4h2v4z\"/>\n",
              "    </g>\n",
              "</svg>\n",
              "  </button>\n",
              "\n",
              "<style>\n",
              "  .colab-df-quickchart {\n",
              "      --bg-color: #E8F0FE;\n",
              "      --fill-color: #1967D2;\n",
              "      --hover-bg-color: #E2EBFA;\n",
              "      --hover-fill-color: #174EA6;\n",
              "      --disabled-fill-color: #AAA;\n",
              "      --disabled-bg-color: #DDD;\n",
              "  }\n",
              "\n",
              "  [theme=dark] .colab-df-quickchart {\n",
              "      --bg-color: #3B4455;\n",
              "      --fill-color: #D2E3FC;\n",
              "      --hover-bg-color: #434B5C;\n",
              "      --hover-fill-color: #FFFFFF;\n",
              "      --disabled-bg-color: #3B4455;\n",
              "      --disabled-fill-color: #666;\n",
              "  }\n",
              "\n",
              "  .colab-df-quickchart {\n",
              "    background-color: var(--bg-color);\n",
              "    border: none;\n",
              "    border-radius: 50%;\n",
              "    cursor: pointer;\n",
              "    display: none;\n",
              "    fill: var(--fill-color);\n",
              "    height: 32px;\n",
              "    padding: 0;\n",
              "    width: 32px;\n",
              "  }\n",
              "\n",
              "  .colab-df-quickchart:hover {\n",
              "    background-color: var(--hover-bg-color);\n",
              "    box-shadow: 0 1px 2px rgba(60, 64, 67, 0.3), 0 1px 3px 1px rgba(60, 64, 67, 0.15);\n",
              "    fill: var(--button-hover-fill-color);\n",
              "  }\n",
              "\n",
              "  .colab-df-quickchart-complete:disabled,\n",
              "  .colab-df-quickchart-complete:disabled:hover {\n",
              "    background-color: var(--disabled-bg-color);\n",
              "    fill: var(--disabled-fill-color);\n",
              "    box-shadow: none;\n",
              "  }\n",
              "\n",
              "  .colab-df-spinner {\n",
              "    border: 2px solid var(--fill-color);\n",
              "    border-color: transparent;\n",
              "    border-bottom-color: var(--fill-color);\n",
              "    animation:\n",
              "      spin 1s steps(1) infinite;\n",
              "  }\n",
              "\n",
              "  @keyframes spin {\n",
              "    0% {\n",
              "      border-color: transparent;\n",
              "      border-bottom-color: var(--fill-color);\n",
              "      border-left-color: var(--fill-color);\n",
              "    }\n",
              "    20% {\n",
              "      border-color: transparent;\n",
              "      border-left-color: var(--fill-color);\n",
              "      border-top-color: var(--fill-color);\n",
              "    }\n",
              "    30% {\n",
              "      border-color: transparent;\n",
              "      border-left-color: var(--fill-color);\n",
              "      border-top-color: var(--fill-color);\n",
              "      border-right-color: var(--fill-color);\n",
              "    }\n",
              "    40% {\n",
              "      border-color: transparent;\n",
              "      border-right-color: var(--fill-color);\n",
              "      border-top-color: var(--fill-color);\n",
              "    }\n",
              "    60% {\n",
              "      border-color: transparent;\n",
              "      border-right-color: var(--fill-color);\n",
              "    }\n",
              "    80% {\n",
              "      border-color: transparent;\n",
              "      border-right-color: var(--fill-color);\n",
              "      border-bottom-color: var(--fill-color);\n",
              "    }\n",
              "    90% {\n",
              "      border-color: transparent;\n",
              "      border-bottom-color: var(--fill-color);\n",
              "    }\n",
              "  }\n",
              "</style>\n",
              "\n",
              "  <script>\n",
              "    async function quickchart(key) {\n",
              "      const quickchartButtonEl =\n",
              "        document.querySelector('#' + key + ' button');\n",
              "      quickchartButtonEl.disabled = true;  // To prevent multiple clicks.\n",
              "      quickchartButtonEl.classList.add('colab-df-spinner');\n",
              "      try {\n",
              "        const charts = await google.colab.kernel.invokeFunction(\n",
              "            'suggestCharts', [key], {});\n",
              "      } catch (error) {\n",
              "        console.error('Error during call to suggestCharts:', error);\n",
              "      }\n",
              "      quickchartButtonEl.classList.remove('colab-df-spinner');\n",
              "      quickchartButtonEl.classList.add('colab-df-quickchart-complete');\n",
              "    }\n",
              "    (() => {\n",
              "      let quickchartButtonEl =\n",
              "        document.querySelector('#df-59837ad7-4a5d-477d-93e0-9c2d110acbfe button');\n",
              "      quickchartButtonEl.style.display =\n",
              "        google.colab.kernel.accessAllowed ? 'block' : 'none';\n",
              "    })();\n",
              "  </script>\n",
              "</div>\n",
              "\n",
              "    </div>\n",
              "  </div>\n"
            ],
            "application/vnd.google.colaboratory.intrinsic+json": {
              "type": "dataframe",
              "variable_name": "submission_df",
              "summary": "{\n  \"name\": \"submission_df\",\n  \"rows\": 60411,\n  \"fields\": [\n    {\n      \"column\": \"Rings\",\n      \"properties\": {\n        \"dtype\": \"number\",\n        \"std\": 2.5552539338721494,\n        \"min\": 3.9845365360254448,\n        \"max\": 20.420650840784685,\n        \"num_unique_values\": 60411,\n        \"samples\": [\n          6.734057897128872,\n          8.689883150026185,\n          10.071181246909406\n        ],\n        \"semantic_type\": \"\",\n        \"description\": \"\"\n      }\n    },\n    {\n      \"column\": \"id\",\n      \"properties\": {\n        \"dtype\": \"number\",\n        \"std\": 17439,\n        \"min\": 90615,\n        \"max\": 151025,\n        \"num_unique_values\": 60411,\n        \"samples\": [\n          91344,\n          125524,\n          107704\n        ],\n        \"semantic_type\": \"\",\n        \"description\": \"\"\n      }\n    }\n  ]\n}"
            }
          },
          "metadata": {},
          "execution_count": 170
        }
      ]
    },
    {
      "cell_type": "code",
      "source": [
        "submission_df.to_csv('submission.csv', index= False)"
      ],
      "metadata": {
        "id": "dHkt4WgIRq3V"
      },
      "execution_count": null,
      "outputs": []
    },
    {
      "cell_type": "code",
      "source": [
        "df1 = pd.read_csv('submission.csv')"
      ],
      "metadata": {
        "id": "xJdSGU2JRwL4"
      },
      "execution_count": null,
      "outputs": []
    },
    {
      "cell_type": "code",
      "source": [
        "df2 = pd.read_csv('test.csv')"
      ],
      "metadata": {
        "id": "Vh3WX13uS9oi"
      },
      "execution_count": null,
      "outputs": []
    },
    {
      "cell_type": "code",
      "source": [
        "len(df1)"
      ],
      "metadata": {
        "colab": {
          "base_uri": "https://localhost:8080/"
        },
        "id": "xkavDQKwTCqg",
        "outputId": "3e6a00bc-293e-471f-9b8f-122a845ea4d4"
      },
      "execution_count": null,
      "outputs": [
        {
          "output_type": "execute_result",
          "data": {
            "text/plain": [
              "60411"
            ]
          },
          "metadata": {},
          "execution_count": 173
        }
      ]
    },
    {
      "cell_type": "code",
      "source": [
        "len(df2)"
      ],
      "metadata": {
        "colab": {
          "base_uri": "https://localhost:8080/"
        },
        "id": "GAqJVOSgTEYg",
        "outputId": "fadd3337-b97a-4851-d2ba-3b9c942c28d7"
      },
      "execution_count": null,
      "outputs": [
        {
          "output_type": "execute_result",
          "data": {
            "text/plain": [
              "60411"
            ]
          },
          "metadata": {},
          "execution_count": 79
        }
      ]
    },
    {
      "cell_type": "code",
      "source": [
        "df2.tail()"
      ],
      "metadata": {
        "colab": {
          "base_uri": "https://localhost:8080/",
          "height": 244
        },
        "id": "TfFJF70OTeO8",
        "outputId": "2d846dce-5d01-4750-a5e4-7540c0aa94c7"
      },
      "execution_count": null,
      "outputs": [
        {
          "output_type": "execute_result",
          "data": {
            "text/plain": [
              "           id Sex  Length  Diameter  Height  Whole weight  Whole weight.1  \\\n",
              "60406  151021   I   0.345     0.260   0.085        0.1775          0.0735   \n",
              "60407  151022   F   0.525     0.410   0.145        0.8445          0.3885   \n",
              "60408  151023   I   0.590     0.440   0.155        1.1220          0.3930   \n",
              "60409  151024   F   0.660     0.525   0.190        1.4935          0.5885   \n",
              "60410  151025   F   0.430     0.340   0.120        0.4150          0.1525   \n",
              "\n",
              "       Whole weight.2  Shell weight  \n",
              "60406          0.0265        0.0500  \n",
              "60407          0.1670        0.2050  \n",
              "60408          0.2000        0.2650  \n",
              "60409          0.3575        0.4350  \n",
              "60410          0.0910        0.0905  "
            ],
            "text/html": [
              "\n",
              "  <div id=\"df-2400b008-8b6f-4456-97cd-41739c3bc08b\" class=\"colab-df-container\">\n",
              "    <div>\n",
              "<style scoped>\n",
              "    .dataframe tbody tr th:only-of-type {\n",
              "        vertical-align: middle;\n",
              "    }\n",
              "\n",
              "    .dataframe tbody tr th {\n",
              "        vertical-align: top;\n",
              "    }\n",
              "\n",
              "    .dataframe thead th {\n",
              "        text-align: right;\n",
              "    }\n",
              "</style>\n",
              "<table border=\"1\" class=\"dataframe\">\n",
              "  <thead>\n",
              "    <tr style=\"text-align: right;\">\n",
              "      <th></th>\n",
              "      <th>id</th>\n",
              "      <th>Sex</th>\n",
              "      <th>Length</th>\n",
              "      <th>Diameter</th>\n",
              "      <th>Height</th>\n",
              "      <th>Whole weight</th>\n",
              "      <th>Whole weight.1</th>\n",
              "      <th>Whole weight.2</th>\n",
              "      <th>Shell weight</th>\n",
              "    </tr>\n",
              "  </thead>\n",
              "  <tbody>\n",
              "    <tr>\n",
              "      <th>60406</th>\n",
              "      <td>151021</td>\n",
              "      <td>I</td>\n",
              "      <td>0.345</td>\n",
              "      <td>0.260</td>\n",
              "      <td>0.085</td>\n",
              "      <td>0.1775</td>\n",
              "      <td>0.0735</td>\n",
              "      <td>0.0265</td>\n",
              "      <td>0.0500</td>\n",
              "    </tr>\n",
              "    <tr>\n",
              "      <th>60407</th>\n",
              "      <td>151022</td>\n",
              "      <td>F</td>\n",
              "      <td>0.525</td>\n",
              "      <td>0.410</td>\n",
              "      <td>0.145</td>\n",
              "      <td>0.8445</td>\n",
              "      <td>0.3885</td>\n",
              "      <td>0.1670</td>\n",
              "      <td>0.2050</td>\n",
              "    </tr>\n",
              "    <tr>\n",
              "      <th>60408</th>\n",
              "      <td>151023</td>\n",
              "      <td>I</td>\n",
              "      <td>0.590</td>\n",
              "      <td>0.440</td>\n",
              "      <td>0.155</td>\n",
              "      <td>1.1220</td>\n",
              "      <td>0.3930</td>\n",
              "      <td>0.2000</td>\n",
              "      <td>0.2650</td>\n",
              "    </tr>\n",
              "    <tr>\n",
              "      <th>60409</th>\n",
              "      <td>151024</td>\n",
              "      <td>F</td>\n",
              "      <td>0.660</td>\n",
              "      <td>0.525</td>\n",
              "      <td>0.190</td>\n",
              "      <td>1.4935</td>\n",
              "      <td>0.5885</td>\n",
              "      <td>0.3575</td>\n",
              "      <td>0.4350</td>\n",
              "    </tr>\n",
              "    <tr>\n",
              "      <th>60410</th>\n",
              "      <td>151025</td>\n",
              "      <td>F</td>\n",
              "      <td>0.430</td>\n",
              "      <td>0.340</td>\n",
              "      <td>0.120</td>\n",
              "      <td>0.4150</td>\n",
              "      <td>0.1525</td>\n",
              "      <td>0.0910</td>\n",
              "      <td>0.0905</td>\n",
              "    </tr>\n",
              "  </tbody>\n",
              "</table>\n",
              "</div>\n",
              "    <div class=\"colab-df-buttons\">\n",
              "\n",
              "  <div class=\"colab-df-container\">\n",
              "    <button class=\"colab-df-convert\" onclick=\"convertToInteractive('df-2400b008-8b6f-4456-97cd-41739c3bc08b')\"\n",
              "            title=\"Convert this dataframe to an interactive table.\"\n",
              "            style=\"display:none;\">\n",
              "\n",
              "  <svg xmlns=\"http://www.w3.org/2000/svg\" height=\"24px\" viewBox=\"0 -960 960 960\">\n",
              "    <path d=\"M120-120v-720h720v720H120Zm60-500h600v-160H180v160Zm220 220h160v-160H400v160Zm0 220h160v-160H400v160ZM180-400h160v-160H180v160Zm440 0h160v-160H620v160ZM180-180h160v-160H180v160Zm440 0h160v-160H620v160Z\"/>\n",
              "  </svg>\n",
              "    </button>\n",
              "\n",
              "  <style>\n",
              "    .colab-df-container {\n",
              "      display:flex;\n",
              "      gap: 12px;\n",
              "    }\n",
              "\n",
              "    .colab-df-convert {\n",
              "      background-color: #E8F0FE;\n",
              "      border: none;\n",
              "      border-radius: 50%;\n",
              "      cursor: pointer;\n",
              "      display: none;\n",
              "      fill: #1967D2;\n",
              "      height: 32px;\n",
              "      padding: 0 0 0 0;\n",
              "      width: 32px;\n",
              "    }\n",
              "\n",
              "    .colab-df-convert:hover {\n",
              "      background-color: #E2EBFA;\n",
              "      box-shadow: 0px 1px 2px rgba(60, 64, 67, 0.3), 0px 1px 3px 1px rgba(60, 64, 67, 0.15);\n",
              "      fill: #174EA6;\n",
              "    }\n",
              "\n",
              "    .colab-df-buttons div {\n",
              "      margin-bottom: 4px;\n",
              "    }\n",
              "\n",
              "    [theme=dark] .colab-df-convert {\n",
              "      background-color: #3B4455;\n",
              "      fill: #D2E3FC;\n",
              "    }\n",
              "\n",
              "    [theme=dark] .colab-df-convert:hover {\n",
              "      background-color: #434B5C;\n",
              "      box-shadow: 0px 1px 3px 1px rgba(0, 0, 0, 0.15);\n",
              "      filter: drop-shadow(0px 1px 2px rgba(0, 0, 0, 0.3));\n",
              "      fill: #FFFFFF;\n",
              "    }\n",
              "  </style>\n",
              "\n",
              "    <script>\n",
              "      const buttonEl =\n",
              "        document.querySelector('#df-2400b008-8b6f-4456-97cd-41739c3bc08b button.colab-df-convert');\n",
              "      buttonEl.style.display =\n",
              "        google.colab.kernel.accessAllowed ? 'block' : 'none';\n",
              "\n",
              "      async function convertToInteractive(key) {\n",
              "        const element = document.querySelector('#df-2400b008-8b6f-4456-97cd-41739c3bc08b');\n",
              "        const dataTable =\n",
              "          await google.colab.kernel.invokeFunction('convertToInteractive',\n",
              "                                                    [key], {});\n",
              "        if (!dataTable) return;\n",
              "\n",
              "        const docLinkHtml = 'Like what you see? Visit the ' +\n",
              "          '<a target=\"_blank\" href=https://colab.research.google.com/notebooks/data_table.ipynb>data table notebook</a>'\n",
              "          + ' to learn more about interactive tables.';\n",
              "        element.innerHTML = '';\n",
              "        dataTable['output_type'] = 'display_data';\n",
              "        await google.colab.output.renderOutput(dataTable, element);\n",
              "        const docLink = document.createElement('div');\n",
              "        docLink.innerHTML = docLinkHtml;\n",
              "        element.appendChild(docLink);\n",
              "      }\n",
              "    </script>\n",
              "  </div>\n",
              "\n",
              "\n",
              "<div id=\"df-6daeb527-d4cb-4c68-a52f-594a12724866\">\n",
              "  <button class=\"colab-df-quickchart\" onclick=\"quickchart('df-6daeb527-d4cb-4c68-a52f-594a12724866')\"\n",
              "            title=\"Suggest charts\"\n",
              "            style=\"display:none;\">\n",
              "\n",
              "<svg xmlns=\"http://www.w3.org/2000/svg\" height=\"24px\"viewBox=\"0 0 24 24\"\n",
              "     width=\"24px\">\n",
              "    <g>\n",
              "        <path d=\"M19 3H5c-1.1 0-2 .9-2 2v14c0 1.1.9 2 2 2h14c1.1 0 2-.9 2-2V5c0-1.1-.9-2-2-2zM9 17H7v-7h2v7zm4 0h-2V7h2v10zm4 0h-2v-4h2v4z\"/>\n",
              "    </g>\n",
              "</svg>\n",
              "  </button>\n",
              "\n",
              "<style>\n",
              "  .colab-df-quickchart {\n",
              "      --bg-color: #E8F0FE;\n",
              "      --fill-color: #1967D2;\n",
              "      --hover-bg-color: #E2EBFA;\n",
              "      --hover-fill-color: #174EA6;\n",
              "      --disabled-fill-color: #AAA;\n",
              "      --disabled-bg-color: #DDD;\n",
              "  }\n",
              "\n",
              "  [theme=dark] .colab-df-quickchart {\n",
              "      --bg-color: #3B4455;\n",
              "      --fill-color: #D2E3FC;\n",
              "      --hover-bg-color: #434B5C;\n",
              "      --hover-fill-color: #FFFFFF;\n",
              "      --disabled-bg-color: #3B4455;\n",
              "      --disabled-fill-color: #666;\n",
              "  }\n",
              "\n",
              "  .colab-df-quickchart {\n",
              "    background-color: var(--bg-color);\n",
              "    border: none;\n",
              "    border-radius: 50%;\n",
              "    cursor: pointer;\n",
              "    display: none;\n",
              "    fill: var(--fill-color);\n",
              "    height: 32px;\n",
              "    padding: 0;\n",
              "    width: 32px;\n",
              "  }\n",
              "\n",
              "  .colab-df-quickchart:hover {\n",
              "    background-color: var(--hover-bg-color);\n",
              "    box-shadow: 0 1px 2px rgba(60, 64, 67, 0.3), 0 1px 3px 1px rgba(60, 64, 67, 0.15);\n",
              "    fill: var(--button-hover-fill-color);\n",
              "  }\n",
              "\n",
              "  .colab-df-quickchart-complete:disabled,\n",
              "  .colab-df-quickchart-complete:disabled:hover {\n",
              "    background-color: var(--disabled-bg-color);\n",
              "    fill: var(--disabled-fill-color);\n",
              "    box-shadow: none;\n",
              "  }\n",
              "\n",
              "  .colab-df-spinner {\n",
              "    border: 2px solid var(--fill-color);\n",
              "    border-color: transparent;\n",
              "    border-bottom-color: var(--fill-color);\n",
              "    animation:\n",
              "      spin 1s steps(1) infinite;\n",
              "  }\n",
              "\n",
              "  @keyframes spin {\n",
              "    0% {\n",
              "      border-color: transparent;\n",
              "      border-bottom-color: var(--fill-color);\n",
              "      border-left-color: var(--fill-color);\n",
              "    }\n",
              "    20% {\n",
              "      border-color: transparent;\n",
              "      border-left-color: var(--fill-color);\n",
              "      border-top-color: var(--fill-color);\n",
              "    }\n",
              "    30% {\n",
              "      border-color: transparent;\n",
              "      border-left-color: var(--fill-color);\n",
              "      border-top-color: var(--fill-color);\n",
              "      border-right-color: var(--fill-color);\n",
              "    }\n",
              "    40% {\n",
              "      border-color: transparent;\n",
              "      border-right-color: var(--fill-color);\n",
              "      border-top-color: var(--fill-color);\n",
              "    }\n",
              "    60% {\n",
              "      border-color: transparent;\n",
              "      border-right-color: var(--fill-color);\n",
              "    }\n",
              "    80% {\n",
              "      border-color: transparent;\n",
              "      border-right-color: var(--fill-color);\n",
              "      border-bottom-color: var(--fill-color);\n",
              "    }\n",
              "    90% {\n",
              "      border-color: transparent;\n",
              "      border-bottom-color: var(--fill-color);\n",
              "    }\n",
              "  }\n",
              "</style>\n",
              "\n",
              "  <script>\n",
              "    async function quickchart(key) {\n",
              "      const quickchartButtonEl =\n",
              "        document.querySelector('#' + key + ' button');\n",
              "      quickchartButtonEl.disabled = true;  // To prevent multiple clicks.\n",
              "      quickchartButtonEl.classList.add('colab-df-spinner');\n",
              "      try {\n",
              "        const charts = await google.colab.kernel.invokeFunction(\n",
              "            'suggestCharts', [key], {});\n",
              "      } catch (error) {\n",
              "        console.error('Error during call to suggestCharts:', error);\n",
              "      }\n",
              "      quickchartButtonEl.classList.remove('colab-df-spinner');\n",
              "      quickchartButtonEl.classList.add('colab-df-quickchart-complete');\n",
              "    }\n",
              "    (() => {\n",
              "      let quickchartButtonEl =\n",
              "        document.querySelector('#df-6daeb527-d4cb-4c68-a52f-594a12724866 button');\n",
              "      quickchartButtonEl.style.display =\n",
              "        google.colab.kernel.accessAllowed ? 'block' : 'none';\n",
              "    })();\n",
              "  </script>\n",
              "</div>\n",
              "\n",
              "    </div>\n",
              "  </div>\n"
            ],
            "application/vnd.google.colaboratory.intrinsic+json": {
              "type": "dataframe",
              "summary": "{\n  \"name\": \"df2\",\n  \"rows\": 5,\n  \"fields\": [\n    {\n      \"column\": \"id\",\n      \"properties\": {\n        \"dtype\": \"number\",\n        \"std\": 1,\n        \"min\": 151021,\n        \"max\": 151025,\n        \"num_unique_values\": 5,\n        \"samples\": [\n          151022,\n          151025,\n          151023\n        ],\n        \"semantic_type\": \"\",\n        \"description\": \"\"\n      }\n    },\n    {\n      \"column\": \"Sex\",\n      \"properties\": {\n        \"dtype\": \"category\",\n        \"num_unique_values\": 2,\n        \"samples\": [\n          \"F\",\n          \"I\"\n        ],\n        \"semantic_type\": \"\",\n        \"description\": \"\"\n      }\n    },\n    {\n      \"column\": \"Length\",\n      \"properties\": {\n        \"dtype\": \"number\",\n        \"std\": 0.1252497504987535,\n        \"min\": 0.345,\n        \"max\": 0.66,\n        \"num_unique_values\": 5,\n        \"samples\": [\n          0.525,\n          0.43\n        ],\n        \"semantic_type\": \"\",\n        \"description\": \"\"\n      }\n    },\n    {\n      \"column\": \"Diameter\",\n      \"properties\": {\n        \"dtype\": \"number\",\n        \"std\": 0.1004987562112089,\n        \"min\": 0.26,\n        \"max\": 0.525,\n        \"num_unique_values\": 5,\n        \"samples\": [\n          0.41,\n          0.34\n        ],\n        \"semantic_type\": \"\",\n        \"description\": \"\"\n      }\n    },\n    {\n      \"column\": \"Height\",\n      \"properties\": {\n        \"dtype\": \"number\",\n        \"std\": 0.03927467377331096,\n        \"min\": 0.085,\n        \"max\": 0.19,\n        \"num_unique_values\": 5,\n        \"samples\": [\n          0.145,\n          0.12\n        ],\n        \"semantic_type\": \"\",\n        \"description\": \"\"\n      }\n    },\n    {\n      \"column\": \"Whole weight\",\n      \"properties\": {\n        \"dtype\": \"number\",\n        \"std\": 0.5295721150136212,\n        \"min\": 0.1775,\n        \"max\": 1.4935,\n        \"num_unique_values\": 5,\n        \"samples\": [\n          0.8445,\n          0.415\n        ],\n        \"semantic_type\": \"\",\n        \"description\": \"\"\n      }\n    },\n    {\n      \"column\": \"Whole weight.1\",\n      \"properties\": {\n        \"dtype\": \"number\",\n        \"std\": 0.20671768187554737,\n        \"min\": 0.0735,\n        \"max\": 0.5885,\n        \"num_unique_values\": 5,\n        \"samples\": [\n          0.3885,\n          0.1525\n        ],\n        \"semantic_type\": \"\",\n        \"description\": \"\"\n      }\n    },\n    {\n      \"column\": \"Whole weight.2\",\n      \"properties\": {\n        \"dtype\": \"number\",\n        \"std\": 0.1253851067710994,\n        \"min\": 0.0265,\n        \"max\": 0.3575,\n        \"num_unique_values\": 5,\n        \"samples\": [\n          0.167,\n          0.091\n        ],\n        \"semantic_type\": \"\",\n        \"description\": \"\"\n      }\n    },\n    {\n      \"column\": \"Shell weight\",\n      \"properties\": {\n        \"dtype\": \"number\",\n        \"std\": 0.15293070326131375,\n        \"min\": 0.05,\n        \"max\": 0.435,\n        \"num_unique_values\": 5,\n        \"samples\": [\n          0.205,\n          0.0905\n        ],\n        \"semantic_type\": \"\",\n        \"description\": \"\"\n      }\n    }\n  ]\n}"
            }
          },
          "metadata": {},
          "execution_count": 82
        }
      ]
    },
    {
      "cell_type": "code",
      "source": [],
      "metadata": {
        "id": "vUeWQSUfTtk9"
      },
      "execution_count": null,
      "outputs": []
    }
  ]
}